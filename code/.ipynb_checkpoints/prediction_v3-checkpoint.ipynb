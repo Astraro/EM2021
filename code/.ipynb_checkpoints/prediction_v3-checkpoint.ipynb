{
 "cells": [
  {
   "cell_type": "code",
   "execution_count": 1,
   "metadata": {},
   "outputs": [],
   "source": [
    "import numpy as np\n",
    "import pandas as pd"
   ]
  },
  {
   "cell_type": "code",
   "execution_count": 2,
   "metadata": {},
   "outputs": [],
   "source": [
    "from collections import defaultdict"
   ]
  },
  {
   "cell_type": "code",
   "execution_count": 3,
   "metadata": {},
   "outputs": [],
   "source": [
    "import pickle"
   ]
  },
  {
   "cell_type": "code",
   "execution_count": 4,
   "metadata": {},
   "outputs": [],
   "source": [
    "from sklearn.base import BaseEstimator, TransformerMixin"
   ]
  },
  {
   "cell_type": "code",
   "execution_count": 5,
   "metadata": {},
   "outputs": [],
   "source": [
    "class FeatureSelectionTransformer(BaseEstimator, TransformerMixin):\n",
    "#     def __init__(self):\n",
    "#         pass\n",
    "    \n",
    "    def __init__(self, type_feat = 'weighted_mean_10'):\n",
    "        self.type_feat = type_feat\n",
    "    \n",
    "    def fit(self, X, y = None):\n",
    "        return self\n",
    "    \n",
    "    def transform(self, X):\n",
    "        cols_feat = X.columns\n",
    "        cols_feat_selected = [col for col in cols_feat if self.type_feat in col]\n",
    "        \n",
    "        cols_feat_selected.sort()\n",
    "        \n",
    "        return X[cols_feat_selected]"
   ]
  },
  {
   "cell_type": "code",
   "execution_count": 6,
   "metadata": {},
   "outputs": [],
   "source": [
    "model = pickle.load(open('model_goals.pkl', 'rb'))"
   ]
  },
  {
   "cell_type": "code",
   "execution_count": 7,
   "metadata": {},
   "outputs": [],
   "source": [
    "model_2 = pickle.load(open('model_goals_2.pkl', 'rb'))"
   ]
  },
  {
   "cell_type": "code",
   "execution_count": 8,
   "metadata": {},
   "outputs": [],
   "source": [
    "data_schedule = [['Italy', 'Belgium', 'Netherlands', 'England', 'Sweden', 'France'],\n",
    "                 ['Wales', 'Denmark', 'Austria', 'Croatia', 'Spain', 'Germany'],\n",
    "                 ['Switzerland', 'Finland', 'Ukraine', 'Czech Republic', 'Slovakia', 'Portugal'],\n",
    "                 ['Turkey', 'Russia', 'North Macedonia', 'Scotland', 'Poland', 'Hungary']\n",
    "                ]"
   ]
  },
  {
   "cell_type": "code",
   "execution_count": 9,
   "metadata": {},
   "outputs": [],
   "source": [
    "df_schedule = pd.DataFrame(data = data_schedule, columns = ['Group ' + L for L in ['A', 'B', 'C', 'D', 'E', 'F']])"
   ]
  },
  {
   "cell_type": "code",
   "execution_count": 10,
   "metadata": {},
   "outputs": [
    {
     "data": {
      "text/html": [
       "<div>\n",
       "<style scoped>\n",
       "    .dataframe tbody tr th:only-of-type {\n",
       "        vertical-align: middle;\n",
       "    }\n",
       "\n",
       "    .dataframe tbody tr th {\n",
       "        vertical-align: top;\n",
       "    }\n",
       "\n",
       "    .dataframe thead th {\n",
       "        text-align: right;\n",
       "    }\n",
       "</style>\n",
       "<table border=\"1\" class=\"dataframe\">\n",
       "  <thead>\n",
       "    <tr style=\"text-align: right;\">\n",
       "      <th></th>\n",
       "      <th>Group A</th>\n",
       "      <th>Group B</th>\n",
       "      <th>Group C</th>\n",
       "      <th>Group D</th>\n",
       "      <th>Group E</th>\n",
       "      <th>Group F</th>\n",
       "    </tr>\n",
       "  </thead>\n",
       "  <tbody>\n",
       "    <tr>\n",
       "      <th>0</th>\n",
       "      <td>Italy</td>\n",
       "      <td>Belgium</td>\n",
       "      <td>Netherlands</td>\n",
       "      <td>England</td>\n",
       "      <td>Sweden</td>\n",
       "      <td>France</td>\n",
       "    </tr>\n",
       "    <tr>\n",
       "      <th>1</th>\n",
       "      <td>Wales</td>\n",
       "      <td>Denmark</td>\n",
       "      <td>Austria</td>\n",
       "      <td>Croatia</td>\n",
       "      <td>Spain</td>\n",
       "      <td>Germany</td>\n",
       "    </tr>\n",
       "    <tr>\n",
       "      <th>2</th>\n",
       "      <td>Switzerland</td>\n",
       "      <td>Finland</td>\n",
       "      <td>Ukraine</td>\n",
       "      <td>Czech Republic</td>\n",
       "      <td>Slovakia</td>\n",
       "      <td>Portugal</td>\n",
       "    </tr>\n",
       "    <tr>\n",
       "      <th>3</th>\n",
       "      <td>Turkey</td>\n",
       "      <td>Russia</td>\n",
       "      <td>North Macedonia</td>\n",
       "      <td>Scotland</td>\n",
       "      <td>Poland</td>\n",
       "      <td>Hungary</td>\n",
       "    </tr>\n",
       "  </tbody>\n",
       "</table>\n",
       "</div>"
      ],
      "text/plain": [
       "       Group A  Group B          Group C         Group D   Group E   Group F\n",
       "0        Italy  Belgium      Netherlands         England    Sweden    France\n",
       "1        Wales  Denmark          Austria         Croatia     Spain   Germany\n",
       "2  Switzerland  Finland          Ukraine  Czech Republic  Slovakia  Portugal\n",
       "3       Turkey   Russia  North Macedonia        Scotland    Poland   Hungary"
      ]
     },
     "execution_count": 10,
     "metadata": {},
     "output_type": "execute_result"
    }
   ],
   "source": [
    "df_schedule"
   ]
  },
  {
   "cell_type": "code",
   "execution_count": 11,
   "metadata": {},
   "outputs": [],
   "source": [
    "import itertools"
   ]
  },
  {
   "cell_type": "code",
   "execution_count": 12,
   "metadata": {},
   "outputs": [],
   "source": [
    "df_feat_teams = pd.read_excel('features_last_game.xlsx', encoding = 'iso-8859-1')"
   ]
  },
  {
   "cell_type": "code",
   "execution_count": 13,
   "metadata": {},
   "outputs": [],
   "source": [
    "def prepare_games_in_group(list_of_teams, df_feat_teams):\n",
    "    df_schedule_group = pd.DataFrame(data = list(itertools.combinations(list_of_teams, 2)), columns = ['team_A', 'team_B'])\n",
    "    \n",
    "    df_feat_teams_A = df_feat_teams.copy()\n",
    "    df_feat_teams_A.columns = [col + '_A' for col in df_feat_teams_A.columns]\n",
    "    \n",
    "    df_feat_teams_B = df_feat_teams.copy()\n",
    "    df_feat_teams_B.columns = [col + '_B' for col in df_feat_teams_B.columns]\n",
    "    \n",
    "    df_schedule_group_feat = pd.merge(df_schedule_group, df_feat_teams_A, how = 'inner', on = 'team_A')\n",
    "    df_schedule_group_feat = pd.merge(df_schedule_group_feat, df_feat_teams_B, how = 'inner', on = 'team_B')\n",
    "    \n",
    "    return df_schedule_group_feat"
   ]
  },
  {
   "cell_type": "code",
   "execution_count": 14,
   "metadata": {},
   "outputs": [],
   "source": [
    "def change_A_B_in_cols(name):\n",
    "    name_new = name\n",
    "    if name[-1] == 'A':\n",
    "        name_new = name.replace('_A', '_B')\n",
    "    elif name[-1] == 'B':\n",
    "        name_new = name.replace('_B', '_A')\n",
    "    \n",
    "    return name_new"
   ]
  },
  {
   "cell_type": "code",
   "execution_count": 15,
   "metadata": {},
   "outputs": [],
   "source": [
    "from random import choices"
   ]
  },
  {
   "cell_type": "code",
   "execution_count": 16,
   "metadata": {},
   "outputs": [],
   "source": [
    "from collections import Counter"
   ]
  },
  {
   "cell_type": "code",
   "execution_count": 17,
   "metadata": {},
   "outputs": [],
   "source": [
    "def simulate_game(p_goals_A, p_goals_B):\n",
    "    population_goals = [i for i in range(10)]\n",
    "    goals_sim_A = choices(population_goals, p_goals_A)[0]\n",
    "    goals_sim_B = choices(population_goals, p_goals_B)[0]\n",
    "    \n",
    "    return goals_sim_A, goals_sim_B"
   ]
  },
  {
   "cell_type": "code",
   "execution_count": 18,
   "metadata": {},
   "outputs": [],
   "source": [
    "def simulate_game_without_draw(p_goals_A, p_goals_B):\n",
    "    population_goals = [i for i in range(10)]\n",
    "    goals_sim_A, goals_sim_B = 0, 0\n",
    "    \n",
    "    while(goals_sim_A == goals_sim_B):\n",
    "        goals_sim_A = choices(population_goals, p_goals_A)[0]\n",
    "        goals_sim_B = choices(population_goals, p_goals_B)[0]\n",
    "    \n",
    "    return goals_sim_A, goals_sim_B"
   ]
  },
  {
   "cell_type": "code",
   "execution_count": 19,
   "metadata": {},
   "outputs": [],
   "source": [
    "def compute_points(goals_1, goals_2):\n",
    "    if goals_1 > goals_2:\n",
    "        return 3\n",
    "    elif goals_1 == goals_2:\n",
    "        return 1\n",
    "    else:\n",
    "        return 0"
   ]
  },
  {
   "cell_type": "code",
   "execution_count": 20,
   "metadata": {},
   "outputs": [],
   "source": [
    "def change_A_B_in_cols(name):\n",
    "    if name[-2:] == '_A':\n",
    "        return name[:-2] + '_B'\n",
    "    else:\n",
    "        return name[:-2] + '_A'"
   ]
  },
  {
   "cell_type": "code",
   "execution_count": 21,
   "metadata": {},
   "outputs": [],
   "source": [
    "def get_goal_prob_for_pairings(df_feat, df_games, model):\n",
    "    df_feat_A = df_feat.copy()\n",
    "    cols_A = [col + '_A' for col in df_feat_A.columns]\n",
    "    df_feat_A.columns = cols_A\n",
    "\n",
    "    df_feat_B = df_feat.copy()\n",
    "    cols_B = [col + '_B' for col in df_feat_B.columns]\n",
    "    df_feat_B.columns = cols_B\n",
    "\n",
    "    df_feat_goals_A = pd.merge(df_games.copy(), df_feat_A, how = 'inner', on = 'team_A')\n",
    "    df_feat_goals_A = pd.merge(df_feat_goals_A, df_feat_B, how = 'inner', on = 'team_B')\n",
    "\n",
    "    df_feat_goals_B = df_games.copy()\n",
    "    df_feat_goals_B.columns = ['team_B', 'team_A']\n",
    "    df_feat_goals_B = pd.merge(df_feat_goals_B, df_feat_B, how = 'inner', on = 'team_B')\n",
    "    df_feat_goals_B = pd.merge(df_feat_goals_B, df_feat_A, how = 'inner', on = 'team_A')\n",
    "    \n",
    "    prob_distr_goals_A = model.predict_proba(df_feat_goals_A)\n",
    "    prob_distr_goals_B = model.predict_proba(df_feat_goals_B)\n",
    "    \n",
    "    return prob_distr_goals_A, prob_distr_goals_B"
   ]
  },
  {
   "cell_type": "code",
   "execution_count": 22,
   "metadata": {},
   "outputs": [],
   "source": [
    "class Group():\n",
    "    def __init__(self, list_of_teams, df_feat, model):\n",
    "        self.list_of_teams = list_of_teams\n",
    "        self.list_of_pairings = list(itertools.combinations(self.list_of_teams, 2))\n",
    "        \n",
    "        self.df_pairings = pd.DataFrame(data = self.get_pairings(), columns = ['team_A', 'team_B'])\n",
    "        \n",
    "        self.prob_distr_goals_A, self.prob_distr_goals_B = get_goal_prob_for_pairings(df_feat, self.df_pairings, model)\n",
    "        \n",
    "    def get_pairings(self):\n",
    "        return self.list_of_pairings\n",
    "    \n",
    "    def simulate_group(self):\n",
    "        population_goals = [i for i in range(10)]\n",
    "        df_results = self.df_pairings.copy()\n",
    "        \n",
    "        prob_distr_goals_games = list(zip(self.prob_distr_goals_A, self.prob_distr_goals_B))\n",
    "        \n",
    "        goals_sim = [simulate_game(prob_distr[0], prob_distr[1]) for prob_distr in prob_distr_goals_games]\n",
    "        \n",
    "        goals_sim_team_A = [goals[0] for goals in goals_sim]\n",
    "        goals_sim_team_B = [goals[1] for goals in goals_sim]\n",
    "                \n",
    "        df_results['goals_sim_A'], df_results['goals_sim_B'] = goals_sim_team_A, goals_sim_team_B\n",
    "        \n",
    "        df_results['points_sim_A'] = df_results.apply(lambda row : compute_points(row['goals_sim_A'], row['goals_sim_B']), axis = 1)\n",
    "        df_results['points_sim_B'] = df_results.apply(lambda row : compute_points(row['goals_sim_B'], row['goals_sim_A']), axis = 1)\n",
    "        \n",
    "        df_results_mirrored = df_results.copy()\n",
    "        df_results_mirrored.columns = [change_A_B_in_cols(col) for col in df_results_mirrored.columns]\n",
    "        \n",
    "        df_results = pd.concat([df_results, df_results_mirrored], axis = 0, sort = False).reset_index(drop = True)\n",
    "        df_results['victories_sim_A'] = df_results['points_sim_A'].apply(lambda points : int(points == 3))\n",
    "        \n",
    "        df_results = df_results.groupby('team_A')['points_sim_A', 'goals_sim_A', 'goals_sim_B', 'victories_sim_A'].agg('sum').reset_index()\n",
    "        df_results['difference_sim_A'] = df_results.apply(lambda row : row['goals_sim_A'] - row['goals_sim_B'], axis = 1)\n",
    "        \n",
    "        df_results = df_results.sort_values(by = ['points_sim_A', 'difference_sim_A', 'goals_sim_A'], ascending = [0, 0, 0])\n",
    "        df_results = df_results.reset_index(drop = True)\n",
    "    \n",
    "        cols_third_team = ['team_A', 'points_sim_A', 'difference_sim_A', 'goals_sim_A', 'victories_sim_A']\n",
    "    \n",
    "        return list(df_results['team_A'].values[:2]) +  list(df_results[cols_third_team].iloc[2].values)"
   ]
  },
  {
   "cell_type": "code",
   "execution_count": 23,
   "metadata": {},
   "outputs": [],
   "source": [
    "class EURO2020():\n",
    "    def __init__(self, df_schedule, df_feat, model):\n",
    "        self.groups = [Group(df_schedule[col].values, df_feat, model) for col in df_schedule]\n",
    "    \n",
    "    def matrix_best_thirds(self, df_best_4_thirds):\n",
    "        best_4_thirds = df_best_4_thirds['group'].sum()\n",
    "        \n",
    "        dict_opponents = {'ABCD' : ['A', 'D', 'B', 'C'],\n",
    "                          'ABCE' : ['A', 'E', 'B', 'C'],\n",
    "                          'ABCF' : ['A', 'F', 'B', 'C'],\n",
    "                          'ABDE' : ['D', 'E', 'A', 'B'],\n",
    "                          'ABDF' : ['D', 'F', 'A', 'B'],\n",
    "                          'ABEF' : ['E', 'F', 'B', 'A'],\n",
    "                          'ACDE' : ['E', 'D', 'C', 'A'],\n",
    "                          'ACDF' : ['F', 'D', 'C', 'A'],\n",
    "                          'ACEF' : ['E', 'F', 'C', 'A'],\n",
    "                          'ADEF' : ['E', 'F', 'D', 'A'],\n",
    "                          'BCDE' : ['E', 'D', 'B', 'C'],\n",
    "                          'BCDF' : ['F', 'D', 'C', 'B'],\n",
    "                          'BCEF' : ['F', 'E', 'C', 'B'],\n",
    "                          'BDEF' : ['F', 'E', 'D', 'B'],\n",
    "                          'CDEF' : ['F', 'E', 'D', 'C']\n",
    "                         }\n",
    "    \n",
    "    def compute_round_of_last_16(self, results_groups):\n",
    "        data_thirds = [result_group[2:] for result_group in results_groups]\n",
    "        \n",
    "        df_ranking_thirds = pd.DataFrame(data = data_thirds, columns = ['team', 'points', 'goal_difference', 'goals', 'victories'])\n",
    "        df_ranking_thirds['group'] = ['A', 'B', 'C', 'D', 'E', 'F']\n",
    "        \n",
    "        df_ranking_thirds = df_ranking_thirds.sort_values(by = ['points', 'goal_difference', 'goals', 'victories'], ascending = [0, 0, 0, 0]).reset_index(drop = True)\n",
    "        \n",
    "        df_best_4_thirds = df_ranking_thirds[['team', 'group']].iloc[:4].sort_values(by = ['group']).reset_index(drop = True)\n",
    "        \n",
    "        best_4_thirds = df_best_4_thirds['group'].sum()\n",
    "        \n",
    "        dict_group_to_team = dict(zip(df_best_4_thirds['group'], df_best_4_thirds['team']))\n",
    "        \n",
    "        dict_opponents_thirds = {'ABCD' : ['A', 'D', 'B', 'C'],\n",
    "                                 'ABCE' : ['A', 'E', 'B', 'C'],\n",
    "                                 'ABCF' : ['A', 'F', 'B', 'C'],\n",
    "                                 'ABDE' : ['D', 'E', 'A', 'B'],\n",
    "                                 'ABDF' : ['D', 'F', 'A', 'B'],\n",
    "                                 'ABEF' : ['E', 'F', 'B', 'A'],\n",
    "                                 'ACDE' : ['E', 'D', 'C', 'A'],\n",
    "                                 'ACDF' : ['F', 'D', 'C', 'A'],\n",
    "                                 'ACEF' : ['E', 'F', 'C', 'A'],\n",
    "                                 'ADEF' : ['E', 'F', 'D', 'A'],\n",
    "                                 'BCDE' : ['E', 'D', 'B', 'C'],\n",
    "                                 'BCDF' : ['F', 'D', 'C', 'B'],\n",
    "                                 'BCEF' : ['F', 'E', 'C', 'B'],\n",
    "                                 'BDEF' : ['F', 'E', 'D', 'B'],\n",
    "                                 'CDEF' : ['F', 'E', 'D', 'C']\n",
    "                                }\n",
    "        \n",
    "        round_of_last_16 = [[results_groups[1][0], dict_group_to_team[dict_opponents_thirds[best_4_thirds][0]]],\n",
    "                            [results_groups[0][0], results_groups[2][1]],\n",
    "                            [results_groups[5][0], dict_group_to_team[dict_opponents_thirds[best_4_thirds][3]]],\n",
    "                            [results_groups[3][1], results_groups[4][1]],\n",
    "                            [results_groups[4][0], dict_group_to_team[dict_opponents_thirds[best_4_thirds][2]]],\n",
    "                            [results_groups[3][0], results_groups[5][1]],\n",
    "                            [results_groups[2][0], dict_group_to_team[dict_opponents_thirds[best_4_thirds][1]]],\n",
    "                            [results_groups[0][1], results_groups[1][1]]\n",
    "                           ]\n",
    "\n",
    "        return round_of_last_16\n",
    "    \n",
    "    def simulate_knockout_phase(self, df_knockout_phase, df_feat_teams, model):\n",
    "        prob_distr_goals_A, prob_distr_goals_B = get_goal_prob_for_pairings(df_feat_teams, df_knockout_phase, model)\n",
    "        \n",
    "        prob_distr_goals_games = list(zip(prob_distr_goals_A, prob_distr_goals_B))\n",
    "        \n",
    "        goals_sim = [simulate_game_without_draw(prob_distr[0], prob_distr[1]) for prob_distr in prob_distr_goals_games]\n",
    "        \n",
    "        goals_sim_team_A = [goals[0] for goals in goals_sim]\n",
    "        goals_sim_team_B = [goals[1] for goals in goals_sim]\n",
    "                \n",
    "        df_knockout_phase['goals_sim_A'], df_knockout_phase['goals_sim_B'] = goals_sim_team_A, goals_sim_team_B\n",
    "        \n",
    "        df_knockout_phase['winner'] = df_knockout_phase.apply(lambda row : row['team_A'] if row['goals_sim_A'] > row['goals_sim_B'] else row['team_B'], axis = 1)\n",
    "\n",
    "        return df_knockout_phase['winner'].values\n",
    "    \n",
    "    def simulate_tournament(self, df_feat_teams, model):\n",
    "        results_groups = [g.simulate_group() for g in self.groups]\n",
    "\n",
    "        winners_groups = [result_group[0] for result_group in results_groups]\n",
    "        \n",
    "        # Simulation round of last sixteen\n",
    "        games_ko_last_16 = self.compute_round_of_last_16(results_groups)      \n",
    "        df_ko_last_16 = pd.DataFrame(data = games_ko_last_16, columns = ['team_A', 'team_B'])\n",
    "        winners_ko_last_16 = self.simulate_knockout_phase(df_ko_last_16, df_feat_teams, model)\n",
    "        \n",
    "        games_ko_last_8 = [winners_ko_last_16[2*i: 2*(i+1)] for i in range(len(winners_ko_last_16)//2)]\n",
    "        df_ko_last_8 = pd.DataFrame(data = games_ko_last_8, columns = ['team_A', 'team_B'])\n",
    "        winners_ko_last_8 = self.simulate_knockout_phase(df_ko_last_8, df_feat_teams, model)\n",
    "        \n",
    "        games_ko_last_4 = [winners_ko_last_8[2*i: 2*(i+1)] for i in range(len(winners_ko_last_8)//2)]\n",
    "        df_ko_last_4 = pd.DataFrame(data = games_ko_last_4, columns = ['team_A', 'team_B'])\n",
    "        winners_ko_last_4 = self.simulate_knockout_phase(df_ko_last_4, df_feat_teams, model)\n",
    "        \n",
    "        games_ko_last_2 = [winners_ko_last_4[2*i: 2*(i+1)] for i in range(len(winners_ko_last_4)//2)]\n",
    "        df_ko_last_2 = pd.DataFrame(data = games_ko_last_2, columns = ['team_A', 'team_B'])\n",
    "        winners_ko_last_2 = self.simulate_knockout_phase(df_ko_last_2, df_feat_teams, model)\n",
    "        \n",
    "        return winners_groups, list(winners_ko_last_8), list(winners_ko_last_2)\n",
    "    \n",
    "    def monte_carlo(self, df_feat_teams, model, n):\n",
    "        dicts_winners_groups = [defaultdict(int) for i in range(6)]\n",
    "        dict_semi_finals = defaultdict(int)\n",
    "        dict_champion = defaultdict(int)\n",
    "        \n",
    "        for i in range(n):\n",
    "            winners_groups, semi_finals, champion = self.simulate_tournament(df_feat_teams, model)\n",
    "            \n",
    "            for i in range(len(winners_groups)):\n",
    "                dicts_winners_groups[i][winners_groups[i]] += 1\n",
    "                \n",
    "            for i in range(len(semi_finals)):\n",
    "                dict_semi_finals[semi_finals[i]] += 1\n",
    "                \n",
    "            dict_champion[champion[0]] += 1\n",
    "        \n",
    "        print('Winners Groups')\n",
    "        for i in range(len(dicts_winners_groups)):\n",
    "            print(dicts_winners_groups[i])\n",
    "            \n",
    "        print('Semi Finals: ')\n",
    "        print(dict_semi_finals)\n",
    "        \n",
    "        print('Champion: ')\n",
    "        print(dict_champion)"
   ]
  },
  {
   "cell_type": "code",
   "execution_count": 24,
   "metadata": {},
   "outputs": [],
   "source": [
    "euro2020 = EURO2020(df_schedule, df_feat_teams, model_2)"
   ]
  },
  {
   "cell_type": "code",
   "execution_count": 25,
   "metadata": {},
   "outputs": [],
   "source": [
    "# euro2020.monte_carlo(df_feat_teams, model_2, 500)"
   ]
  },
  {
   "cell_type": "code",
   "execution_count": 50,
   "metadata": {},
   "outputs": [],
   "source": [
    "def get_result_max_points(p_goals_A, p_goals_B):\n",
    "    p_goals_A = np.reshape(p_goals_A, (10, 1))\n",
    "    p_goals_B = np.reshape(p_goals_B, (1, 10))\n",
    "    \n",
    "    mat_prob = np.matmul(p_goals_A, p_goals_B)\n",
    "    print(mat_prob)\n",
    "    \n",
    "    max_expected_points_draw = 2*sum(np.diagonal(mat_prob, 0)) +2*max(np.diagonal(mat_prob, 0))\n",
    "    print(max_expected_points_draw)\n",
    "\n",
    "    prob_win_A = sum([sum(np.diagonal(mat_prob, -i)) for i in range(1, 10)])\n",
    "    prob_win_B = sum([sum(np.diagonal(mat_prob, i)) for i in range(1, 10)])\n",
    "\n",
    "    max_prob_A = 0\n",
    "    best_win_A = (1, 0)\n",
    "    \n",
    "    max_prob_B = 0\n",
    "    best_win_B = (0, 1)\n",
    "    \n",
    "    for i in range(1, 10):\n",
    "        if max(max_prob_A, sum(np.diagonal(mat_prob, -i)) + max(np.diagonal(mat_prob, -i))) > max_prob_A:\n",
    "            max_prob_A = max(max_prob_A, sum(np.diagonal(mat_prob, -i)) + max(np.diagonal(mat_prob, -i)))\n",
    "            best_win_A = (i + np.argmax(np.diagonal(mat_prob, -i)), np.argmax(np.diagonal(mat_prob, -i)))\n",
    "        \n",
    "        if max(max_prob_B, sum(np.diagonal(mat_prob, i)) + max(np.diagonal(mat_prob, i))) > max_prob_B:\n",
    "            max_prob_B = max(max_prob_B, sum(np.diagonal(mat_prob, i)) + max(np.diagonal(mat_prob, i)))\n",
    "            best_win_B = (np.argmax(np.diagonal(mat_prob, i)), i + np.argmax(np.diagonal(mat_prob, i)))\n",
    "    \n",
    "    max_expected_points_win_A = 2*prob_win_A + max_prob_A\n",
    "    max_expected_points_win_B = 2*prob_win_B + max_prob_B\n",
    "    \n",
    "    print('Draw: ', max_expected_points_draw)\n",
    "    print('Win A: ', max_expected_points_win_A)\n",
    "    print('Win B: ', max_expected_points_win_B)\n",
    "    \n",
    "    print(best_win_A)\n",
    "    print(best_win_B)\n",
    "    print((np.argmax(np.diagonal(mat_prob, 0)), np.argmax(np.diagonal(mat_prob, 0))))\n",
    "    \n",
    "    return mat_prob"
   ]
  },
  {
   "cell_type": "code",
   "execution_count": 34,
   "metadata": {},
   "outputs": [],
   "source": [
    "a = [1, 2, 3]"
   ]
  },
  {
   "cell_type": "code",
   "execution_count": 35,
   "metadata": {},
   "outputs": [
    {
     "name": "stdout",
     "output_type": "stream",
     "text": [
      "2\n"
     ]
    }
   ],
   "source": [
    "print(a.index(max(a)))"
   ]
  },
  {
   "cell_type": "code",
   "execution_count": 36,
   "metadata": {},
   "outputs": [
    {
     "data": {
      "text/plain": [
       "2"
      ]
     },
     "execution_count": 36,
     "metadata": {},
     "output_type": "execute_result"
    }
   ],
   "source": [
    "a_np = np.array(a)\n",
    "np.argmax(a_np)"
   ]
  },
  {
   "cell_type": "code",
   "execution_count": null,
   "metadata": {},
   "outputs": [],
   "source": []
  },
  {
   "cell_type": "code",
   "execution_count": 51,
   "metadata": {},
   "outputs": [
    {
     "name": "stdout",
     "output_type": "stream",
     "text": [
      "[[0.125 0.125 0.    0.    0.    0.    0.    0.    0.    0.   ]\n",
      " [0.375 0.375 0.    0.    0.    0.    0.    0.    0.    0.   ]\n",
      " [0.    0.    0.    0.    0.    0.    0.    0.    0.    0.   ]\n",
      " [0.    0.    0.    0.    0.    0.    0.    0.    0.    0.   ]\n",
      " [0.    0.    0.    0.    0.    0.    0.    0.    0.    0.   ]\n",
      " [0.    0.    0.    0.    0.    0.    0.    0.    0.    0.   ]\n",
      " [0.    0.    0.    0.    0.    0.    0.    0.    0.    0.   ]\n",
      " [0.    0.    0.    0.    0.    0.    0.    0.    0.    0.   ]\n",
      " [0.    0.    0.    0.    0.    0.    0.    0.    0.    0.   ]\n",
      " [0.    0.    0.    0.    0.    0.    0.    0.    0.    0.   ]]\n",
      "1.75\n",
      "Draw:  1.75\n",
      "Win A:  1.5\n",
      "Win B:  0.5\n",
      "(1, 0)\n",
      "(0, 1)\n",
      "(1, 1)\n"
     ]
    },
    {
     "data": {
      "text/plain": [
       "array([[0.125, 0.125, 0.   , 0.   , 0.   , 0.   , 0.   , 0.   , 0.   ,\n",
       "        0.   ],\n",
       "       [0.375, 0.375, 0.   , 0.   , 0.   , 0.   , 0.   , 0.   , 0.   ,\n",
       "        0.   ],\n",
       "       [0.   , 0.   , 0.   , 0.   , 0.   , 0.   , 0.   , 0.   , 0.   ,\n",
       "        0.   ],\n",
       "       [0.   , 0.   , 0.   , 0.   , 0.   , 0.   , 0.   , 0.   , 0.   ,\n",
       "        0.   ],\n",
       "       [0.   , 0.   , 0.   , 0.   , 0.   , 0.   , 0.   , 0.   , 0.   ,\n",
       "        0.   ],\n",
       "       [0.   , 0.   , 0.   , 0.   , 0.   , 0.   , 0.   , 0.   , 0.   ,\n",
       "        0.   ],\n",
       "       [0.   , 0.   , 0.   , 0.   , 0.   , 0.   , 0.   , 0.   , 0.   ,\n",
       "        0.   ],\n",
       "       [0.   , 0.   , 0.   , 0.   , 0.   , 0.   , 0.   , 0.   , 0.   ,\n",
       "        0.   ],\n",
       "       [0.   , 0.   , 0.   , 0.   , 0.   , 0.   , 0.   , 0.   , 0.   ,\n",
       "        0.   ],\n",
       "       [0.   , 0.   , 0.   , 0.   , 0.   , 0.   , 0.   , 0.   , 0.   ,\n",
       "        0.   ]])"
      ]
     },
     "execution_count": 51,
     "metadata": {},
     "output_type": "execute_result"
    }
   ],
   "source": [
    "p_A = [0.25, 0.75, 0, 0, 0, 0, 0, 0, 0, 0]\n",
    "p_B = [0.5, 0.5, 0, 0, 0, 0, 0, 0, 0, 0]\n",
    "\n",
    "get_result_max_points(p_A, p_B)"
   ]
  },
  {
   "cell_type": "code",
   "execution_count": null,
   "metadata": {},
   "outputs": [],
   "source": []
  },
  {
   "cell_type": "code",
   "execution_count": null,
   "metadata": {},
   "outputs": [],
   "source": []
  }
 ],
 "metadata": {
  "kernelspec": {
   "display_name": "Python 3",
   "language": "python",
   "name": "python3"
  },
  "language_info": {
   "codemirror_mode": {
    "name": "ipython",
    "version": 3
   },
   "file_extension": ".py",
   "mimetype": "text/x-python",
   "name": "python",
   "nbconvert_exporter": "python",
   "pygments_lexer": "ipython3",
   "version": "3.7.3"
  }
 },
 "nbformat": 4,
 "nbformat_minor": 2
}
