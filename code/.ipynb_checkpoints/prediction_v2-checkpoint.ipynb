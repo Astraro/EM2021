{
 "cells": [
  {
   "cell_type": "code",
   "execution_count": 23,
   "metadata": {},
   "outputs": [],
   "source": [
    "import numpy as np\n",
    "import pandas as pd"
   ]
  },
  {
   "cell_type": "code",
   "execution_count": 24,
   "metadata": {},
   "outputs": [],
   "source": [
    "import pickle"
   ]
  },
  {
   "cell_type": "code",
   "execution_count": 25,
   "metadata": {},
   "outputs": [],
   "source": [
    "from sklearn.base import BaseEstimator, TransformerMixin"
   ]
  },
  {
   "cell_type": "code",
   "execution_count": 26,
   "metadata": {},
   "outputs": [],
   "source": [
    "class FeatureSelectionTransformer(BaseEstimator, TransformerMixin):\n",
    "#     def __init__(self):\n",
    "#         pass\n",
    "    \n",
    "    def __init__(self, type_feat = 'weighted_mean_10'):\n",
    "        self.type_feat = type_feat\n",
    "    \n",
    "    def fit(self, X, y = None):\n",
    "        return self\n",
    "    \n",
    "    def transform(self, X):\n",
    "        cols_feat = X.columns\n",
    "        cols_feat_selected = [col for col in cols_feat if self.type_feat in col]\n",
    "        \n",
    "        cols_feat_selected.sort()\n",
    "        \n",
    "        return X[cols_feat_selected]"
   ]
  },
  {
   "cell_type": "code",
   "execution_count": 27,
   "metadata": {},
   "outputs": [],
   "source": [
    "model = pickle.load(open('model_goals.pkl', 'rb'))"
   ]
  },
  {
   "cell_type": "code",
   "execution_count": 28,
   "metadata": {},
   "outputs": [],
   "source": [
    "model_2 = pickle.load(open('model_goals_2.pkl', 'rb'))"
   ]
  },
  {
   "cell_type": "code",
   "execution_count": 29,
   "metadata": {},
   "outputs": [],
   "source": [
    "data_schedule = [['Italy', 'Belgium', 'Netherlands', 'England', 'Sweden', 'France'],\n",
    "                 ['Wales', 'Denmark', 'Austria', 'Croatia', 'Spain', 'Germany'],\n",
    "                 ['Switzerland', 'Finland', 'Ukraine', 'Czech Republic', 'Slovakia', 'Portugal'],\n",
    "                 ['Turkey', 'Russia', 'North Macedonia', 'Scotland', 'Poland', 'Hungary']\n",
    "                ]"
   ]
  },
  {
   "cell_type": "code",
   "execution_count": 30,
   "metadata": {},
   "outputs": [],
   "source": [
    "df_schedule = pd.DataFrame(data = data_schedule, columns = ['Group ' + L for L in ['A', 'B', 'C', 'D', 'E', 'F']])"
   ]
  },
  {
   "cell_type": "code",
   "execution_count": 31,
   "metadata": {},
   "outputs": [
    {
     "data": {
      "text/html": [
       "<div>\n",
       "<style scoped>\n",
       "    .dataframe tbody tr th:only-of-type {\n",
       "        vertical-align: middle;\n",
       "    }\n",
       "\n",
       "    .dataframe tbody tr th {\n",
       "        vertical-align: top;\n",
       "    }\n",
       "\n",
       "    .dataframe thead th {\n",
       "        text-align: right;\n",
       "    }\n",
       "</style>\n",
       "<table border=\"1\" class=\"dataframe\">\n",
       "  <thead>\n",
       "    <tr style=\"text-align: right;\">\n",
       "      <th></th>\n",
       "      <th>Group A</th>\n",
       "      <th>Group B</th>\n",
       "      <th>Group C</th>\n",
       "      <th>Group D</th>\n",
       "      <th>Group E</th>\n",
       "      <th>Group F</th>\n",
       "    </tr>\n",
       "  </thead>\n",
       "  <tbody>\n",
       "    <tr>\n",
       "      <th>0</th>\n",
       "      <td>Italy</td>\n",
       "      <td>Belgium</td>\n",
       "      <td>Netherlands</td>\n",
       "      <td>England</td>\n",
       "      <td>Sweden</td>\n",
       "      <td>France</td>\n",
       "    </tr>\n",
       "    <tr>\n",
       "      <th>1</th>\n",
       "      <td>Wales</td>\n",
       "      <td>Denmark</td>\n",
       "      <td>Austria</td>\n",
       "      <td>Croatia</td>\n",
       "      <td>Spain</td>\n",
       "      <td>Germany</td>\n",
       "    </tr>\n",
       "    <tr>\n",
       "      <th>2</th>\n",
       "      <td>Switzerland</td>\n",
       "      <td>Finland</td>\n",
       "      <td>Ukraine</td>\n",
       "      <td>Czech Republic</td>\n",
       "      <td>Slovakia</td>\n",
       "      <td>Portugal</td>\n",
       "    </tr>\n",
       "    <tr>\n",
       "      <th>3</th>\n",
       "      <td>Turkey</td>\n",
       "      <td>Russia</td>\n",
       "      <td>North Macedonia</td>\n",
       "      <td>Scotland</td>\n",
       "      <td>Poland</td>\n",
       "      <td>Hungary</td>\n",
       "    </tr>\n",
       "  </tbody>\n",
       "</table>\n",
       "</div>"
      ],
      "text/plain": [
       "       Group A  Group B          Group C         Group D   Group E   Group F\n",
       "0        Italy  Belgium      Netherlands         England    Sweden    France\n",
       "1        Wales  Denmark          Austria         Croatia     Spain   Germany\n",
       "2  Switzerland  Finland          Ukraine  Czech Republic  Slovakia  Portugal\n",
       "3       Turkey   Russia  North Macedonia        Scotland    Poland   Hungary"
      ]
     },
     "execution_count": 31,
     "metadata": {},
     "output_type": "execute_result"
    }
   ],
   "source": [
    "df_schedule"
   ]
  },
  {
   "cell_type": "code",
   "execution_count": 32,
   "metadata": {},
   "outputs": [],
   "source": [
    "import itertools"
   ]
  },
  {
   "cell_type": "code",
   "execution_count": 33,
   "metadata": {},
   "outputs": [],
   "source": [
    "df_feat_teams = pd.read_excel('features_last_game.xlsx', encoding = 'iso-8859-1')"
   ]
  },
  {
   "cell_type": "code",
   "execution_count": 34,
   "metadata": {},
   "outputs": [],
   "source": [
    "def prepare_games_in_group(list_of_teams, df_feat_teams):\n",
    "    df_schedule_group = pd.DataFrame(data = list(itertools.combinations(list_of_teams, 2)), columns = ['team_A', 'team_B'])\n",
    "    \n",
    "    df_feat_teams_A = df_feat_teams.copy()\n",
    "    df_feat_teams_A.columns = [col + '_A' for col in df_feat_teams_A.columns]\n",
    "    \n",
    "    df_feat_teams_B = df_feat_teams.copy()\n",
    "    df_feat_teams_B.columns = [col + '_B' for col in df_feat_teams_B.columns]\n",
    "    \n",
    "    df_schedule_group_feat = pd.merge(df_schedule_group, df_feat_teams_A, how = 'inner', on = 'team_A')\n",
    "    df_schedule_group_feat = pd.merge(df_schedule_group_feat, df_feat_teams_B, how = 'inner', on = 'team_B')\n",
    "    \n",
    "    return df_schedule_group_feat"
   ]
  },
  {
   "cell_type": "code",
   "execution_count": 35,
   "metadata": {},
   "outputs": [],
   "source": [
    "def change_A_B_in_cols(name):\n",
    "    name_new = name\n",
    "    if name[-1] == 'A':\n",
    "        name_new = name.replace('_A', '_B')\n",
    "    elif name[-1] == 'B':\n",
    "        name_new = name.replace('_B', '_A')\n",
    "    \n",
    "    return name_new"
   ]
  },
  {
   "cell_type": "code",
   "execution_count": 36,
   "metadata": {},
   "outputs": [],
   "source": [
    "from random import choices"
   ]
  },
  {
   "cell_type": "code",
   "execution_count": 37,
   "metadata": {},
   "outputs": [],
   "source": [
    "from collections import Counter"
   ]
  },
  {
   "cell_type": "code",
   "execution_count": 38,
   "metadata": {},
   "outputs": [],
   "source": [
    "def simulate_game(p_goals_A, p_goals_B):\n",
    "    population_goals = [i for i in range(10)]\n",
    "    goals_sim_A = choices(population_goals, p_goals_A)[0]\n",
    "    goals_sim_B = choices(population_goals, p_goals_B)[0]\n",
    "    \n",
    "    return goals_sim_A, goals_sim_B"
   ]
  },
  {
   "cell_type": "code",
   "execution_count": 39,
   "metadata": {},
   "outputs": [],
   "source": [
    "def compute_points(goals_1, goals_2):\n",
    "    if goals_1 > goals_2:\n",
    "        return 3\n",
    "    elif goals_1 == goals_2:\n",
    "        return 1\n",
    "    else:\n",
    "        return 0"
   ]
  },
  {
   "cell_type": "code",
   "execution_count": 40,
   "metadata": {},
   "outputs": [],
   "source": [
    "def change_A_B_in_cols(name):\n",
    "    if name[-2:] == '_A':\n",
    "        return name[:-2] + '_B'\n",
    "    else:\n",
    "        return name[:-2] + '_A'"
   ]
  },
  {
   "cell_type": "code",
   "execution_count": 41,
   "metadata": {},
   "outputs": [],
   "source": [
    "class Group():\n",
    "    def __init__(self, list_of_teams, df_feat, model):\n",
    "        self.list_of_teams = list_of_teams\n",
    "        self.list_of_pairings = list(itertools.combinations(self.list_of_teams, 2))\n",
    "        \n",
    "        self.df_pairings = pd.DataFrame(data = self.get_pairings(), columns = ['team_A', 'team_B'])\n",
    "        \n",
    "        self.df_feat = df_feat[df_feat['team'].isin(list_of_teams)].reset_index(drop = True)\n",
    "        \n",
    "        df_feat_A = df_feat.copy()\n",
    "        cols_A = [col + '_A' for col in df_feat_A.columns]\n",
    "        df_feat_A.columns = cols_A\n",
    "        \n",
    "        df_feat_B = df_feat.copy()\n",
    "        cols_B = [col + '_B' for col in df_feat_B.columns]\n",
    "        df_feat_B.columns = cols_B\n",
    "        \n",
    "        df_feat_goals_A = pd.merge(self.df_pairings, df_feat_A, how = 'inner', on = 'team_A')\n",
    "        df_feat_goals_A = pd.merge(df_feat_goals_A, df_feat_B, how = 'inner', on = 'team_B')\n",
    "        \n",
    "        df_feat_goals_B = self.df_pairings.copy()\n",
    "        df_feat_goals_B.columns = ['team_B', 'team_A']\n",
    "        df_feat_goals_B = pd.merge(df_feat_goals_B, df_feat_B, how = 'inner', on = 'team_B')\n",
    "        df_feat_goals_B = pd.merge(df_feat_goals_B, df_feat_A, how = 'inner', on = 'team_A')\n",
    "        \n",
    "        self.prob_distr_goals_A = model.predict_proba(df_feat_goals_A)\n",
    "        self.prob_distr_goals_B = model.predict_proba(df_feat_goals_B)\n",
    "        \n",
    "    def get_pairings(self):\n",
    "        return self.list_of_pairings\n",
    "    \n",
    "    def simulate_group(self):\n",
    "        population_goals = [i for i in range(10)]\n",
    "        df_results = self.df_pairings.copy()\n",
    "        \n",
    "        goals_sim_team_A = [choices(population_goals, self.prob_distr_goals_A[i])[0] for i in range(len(self.prob_distr_goals_A))]\n",
    "        goals_sim_team_B = [choices(population_goals, self.prob_distr_goals_B[i])[0] for i in range(len(self.prob_distr_goals_B))]\n",
    "                            \n",
    "        df_results['goals_sim_A'], df_results['goals_sim_B'] = goals_sim_team_A, goals_sim_team_B\n",
    "        \n",
    "        df_results['points_sim_A'] = df_results.apply(lambda row : compute_points(row['goals_sim_A'], row['goals_sim_B']), axis = 1)\n",
    "        df_results['points_sim_B'] = df_results.apply(lambda row : compute_points(row['goals_sim_B'], row['goals_sim_A']), axis = 1)\n",
    "        \n",
    "#         display(df_results)\n",
    "        \n",
    "        df_results_mirrored = df_results.copy()\n",
    "        df_results_mirrored.columns = [change_A_B_in_cols(col) for col in df_results_mirrored.columns]\n",
    "        \n",
    "        df_results = pd.concat([df_results, df_results_mirrored], axis = 0).reset_index(drop = True)\n",
    "        df_results['victories_sim_A'] = df_results['points_sim_A'].apply(lambda points : int(points == 3))\n",
    "        \n",
    "        df_results = df_results.groupby('team_A')['points_sim_A', 'goals_sim_A', 'goals_sim_B', 'victories_sim_A'].agg('sum').reset_index()\n",
    "        df_results['difference_sim_A'] = df_results.apply(lambda row : row['goals_sim_A'] - row['goals_sim_B'], axis = 1)\n",
    "        \n",
    "        df_results = df_results.sort_values(by = ['points_sim_A', 'difference_sim_A', 'goals_sim_A'], ascending = [0, 0, 0])\n",
    "        df_results = df_results.reset_index(drop = True)\n",
    "        \n",
    "#         print(df_results['team_A'].values[:2])\n",
    "#         print(df_results.iloc[2].values)\n",
    "        \n",
    "        cols_third_team = ['team_A', 'points_sim_A', 'difference_sim_A', 'goals_sim_A', 'victories_sim_A']\n",
    "    \n",
    "        return list(df_results['team_A'].values[:2]) +  list(df_results[cols_third_team].iloc[2].values)"
   ]
  },
  {
   "cell_type": "code",
   "execution_count": null,
   "metadata": {},
   "outputs": [],
   "source": []
  },
  {
   "cell_type": "code",
   "execution_count": 126,
   "metadata": {},
   "outputs": [],
   "source": [
    "class EURO2020():\n",
    "    def __init__(self, df_schedule, df_feat, model):\n",
    "        self.groups = [Group(df_schedule[col].values, df_feat, model) for col in df_schedule]\n",
    "    \n",
    "    def matrix_best_thirds(self, df_best_4_thirds):\n",
    "        best_4_thirds = df_best_4_thirds['group'].sum()\n",
    "        \n",
    "        dict_opponents = {'ABCD' : ['A', 'D', 'B', 'C'],\n",
    "                          'ABCE' : ['A', 'E', 'B', 'C'],\n",
    "                          'ABCF' : ['A', 'F', 'B', 'C'],\n",
    "                          'ABDE' : ['D', 'E', 'A', 'B'],\n",
    "                          'ABDF' : ['D', 'F', 'A', 'B'],\n",
    "                          'ABEF' : ['E', 'F', 'B', 'A'],\n",
    "                          'ACDE' : ['E', 'D', 'C', 'A'],\n",
    "                          'ACDF' : ['F', 'D', 'C', 'A'],\n",
    "                          'ACEF' : ['E', 'F', 'C', 'A'],\n",
    "                          'ADEF' : ['E', 'F', 'D', 'A'],\n",
    "                          'BCDE' : ['E', 'D', 'B', 'C'],\n",
    "                          'BCDF' : ['F', 'D', 'C', 'B'],\n",
    "                          'BCEF' : ['F', 'E', 'C', 'B'],\n",
    "                          'BDEF' : ['F', 'E', 'D', 'B'],\n",
    "                          'CDEF' : ['F', 'E', 'D', 'C']\n",
    "                         }\n",
    "    \n",
    "    def compute_round_of_last_sixteen(self, results_groups):\n",
    "        data_thirds = [result_group[2:] for result_group in results_groups]\n",
    "        \n",
    "        df_ranking_thirds = pd.DataFrame(data = data_thirds, columns = ['team', 'points', 'goal_difference', 'goals', 'victories'])\n",
    "        df_ranking_thirds['group'] = ['A', 'B', 'C', 'D', 'E', 'F']\n",
    "        \n",
    "        df_ranking_thirds = df_ranking_thirds.sort_values(by = ['points', 'goal_difference', 'goals', 'victories'], ascending = [0, 0, 0, 0]).reset_index(drop = True)\n",
    "        \n",
    "        df_best_4_thirds = df_ranking_thirds[['team', 'group']].iloc[:4].sort_values(by = ['group']).reset_index(drop = True)\n",
    "        \n",
    "        best_4_thirds = df_best_4_thirds['group'].sum()\n",
    "        \n",
    "        dict_group_to_team = dict(zip(df_best_4_thirds['group'], df_best_4_thirds['team']))\n",
    "        \n",
    "        dict_opponents_thirds = {'ABCD' : ['A', 'D', 'B', 'C'],\n",
    "                                 'ABCE' : ['A', 'E', 'B', 'C'],\n",
    "                                 'ABCF' : ['A', 'F', 'B', 'C'],\n",
    "                                 'ABDE' : ['D', 'E', 'A', 'B'],\n",
    "                                 'ABDF' : ['D', 'F', 'A', 'B'],\n",
    "                                 'ABEF' : ['E', 'F', 'B', 'A'],\n",
    "                                 'ACDE' : ['E', 'D', 'C', 'A'],\n",
    "                                 'ACDF' : ['F', 'D', 'C', 'A'],\n",
    "                                 'ACEF' : ['E', 'F', 'C', 'A'],\n",
    "                                 'ADEF' : ['E', 'F', 'D', 'A'],\n",
    "                                 'BCDE' : ['E', 'D', 'B', 'C'],\n",
    "                                 'BCDF' : ['F', 'D', 'C', 'B'],\n",
    "                                 'BCEF' : ['F', 'E', 'C', 'B'],\n",
    "                                 'BDEF' : ['F', 'E', 'D', 'B'],\n",
    "                                 'CDEF' : ['F', 'E', 'D', 'C']\n",
    "                                }\n",
    "        \n",
    "        round_of_last_sixteen = [[results_groups[1][0], dict_group_to_team[dict_opponents_thirds[best_4_thirds][0]]],\n",
    "                                 [results_groups[0][0], results_groups[2][1]],\n",
    "                                 [results_groups[5][0], dict_group_to_team[dict_opponents_thirds[best_4_thirds][3]]],\n",
    "                                 [results_groups[3][1], results_groups[4][1]],\n",
    "                                 [results_groups[4][0], dict_group_to_team[dict_opponents_thirds[best_4_thirds][2]]],\n",
    "                                 [results_groups[3][0], results_groups[5][1]],\n",
    "                                 [results_groups[2][0], dict_group_to_team[dict_opponents_thirds[best_4_thirds][1]]],\n",
    "                                 [results_groups[0][1], results_groups[1][1]]\n",
    "                                ]\n",
    "        \n",
    "        \n",
    "        print(results_groups)\n",
    "        display(df_ranking_thirds)\n",
    "        display(df_best_4_thirds)\n",
    "        \n",
    "        print(round_of_last_sixteen)\n",
    "        \n",
    "        return round_of_last_sixteen\n",
    "    \n",
    "    def simulate_tournament(self):\n",
    "        results_groups = [g.simulate_group() for g in self.groups]\n",
    "        \n",
    "        round_of_last_sixteen = self.compute_round_of_last_sixteen(results_groups)\n",
    "    "
   ]
  },
  {
   "cell_type": "code",
   "execution_count": 110,
   "metadata": {},
   "outputs": [],
   "source": [
    "euro2020 = EURO2020(df_schedule, df_feat_teams, model_2)"
   ]
  },
  {
   "cell_type": "code",
   "execution_count": 125,
   "metadata": {},
   "outputs": [
    {
     "name": "stdout",
     "output_type": "stream",
     "text": [
      "[['Turkey', 'Switzerland', 'Italy', 3, -1, 3, 1], ['Russia', 'Belgium', 'Denmark', 3, -2, 6, 1], ['Netherlands', 'Ukraine', 'Austria', 3, -1, 5, 1], ['Scotland', 'England', 'Czech Republic', 4, -1, 3, 1], ['Spain', 'Sweden', 'Slovakia', 3, -3, 1, 1], ['Germany', 'Hungary', 'France', 3, -1, 4, 1]]\n"
     ]
    },
    {
     "name": "stderr",
     "output_type": "stream",
     "text": [
      "C:\\Users\\CF\\Anaconda3\\lib\\site-packages\\ipykernel_launcher.py:49: FutureWarning: Sorting because non-concatenation axis is not aligned. A future version\n",
      "of pandas will change to not sort by default.\n",
      "\n",
      "To accept the future behavior, pass 'sort=False'.\n",
      "\n",
      "To retain the current behavior and silence the warning, pass 'sort=True'.\n",
      "\n"
     ]
    },
    {
     "data": {
      "text/html": [
       "<div>\n",
       "<style scoped>\n",
       "    .dataframe tbody tr th:only-of-type {\n",
       "        vertical-align: middle;\n",
       "    }\n",
       "\n",
       "    .dataframe tbody tr th {\n",
       "        vertical-align: top;\n",
       "    }\n",
       "\n",
       "    .dataframe thead th {\n",
       "        text-align: right;\n",
       "    }\n",
       "</style>\n",
       "<table border=\"1\" class=\"dataframe\">\n",
       "  <thead>\n",
       "    <tr style=\"text-align: right;\">\n",
       "      <th></th>\n",
       "      <th>team</th>\n",
       "      <th>points</th>\n",
       "      <th>goal_difference</th>\n",
       "      <th>goals</th>\n",
       "      <th>victories</th>\n",
       "      <th>group</th>\n",
       "    </tr>\n",
       "  </thead>\n",
       "  <tbody>\n",
       "    <tr>\n",
       "      <th>0</th>\n",
       "      <td>Czech Republic</td>\n",
       "      <td>4</td>\n",
       "      <td>-1</td>\n",
       "      <td>3</td>\n",
       "      <td>1</td>\n",
       "      <td>D</td>\n",
       "    </tr>\n",
       "    <tr>\n",
       "      <th>1</th>\n",
       "      <td>Austria</td>\n",
       "      <td>3</td>\n",
       "      <td>-1</td>\n",
       "      <td>5</td>\n",
       "      <td>1</td>\n",
       "      <td>C</td>\n",
       "    </tr>\n",
       "    <tr>\n",
       "      <th>2</th>\n",
       "      <td>France</td>\n",
       "      <td>3</td>\n",
       "      <td>-1</td>\n",
       "      <td>4</td>\n",
       "      <td>1</td>\n",
       "      <td>F</td>\n",
       "    </tr>\n",
       "    <tr>\n",
       "      <th>3</th>\n",
       "      <td>Italy</td>\n",
       "      <td>3</td>\n",
       "      <td>-1</td>\n",
       "      <td>3</td>\n",
       "      <td>1</td>\n",
       "      <td>A</td>\n",
       "    </tr>\n",
       "    <tr>\n",
       "      <th>4</th>\n",
       "      <td>Denmark</td>\n",
       "      <td>3</td>\n",
       "      <td>-2</td>\n",
       "      <td>6</td>\n",
       "      <td>1</td>\n",
       "      <td>B</td>\n",
       "    </tr>\n",
       "    <tr>\n",
       "      <th>5</th>\n",
       "      <td>Slovakia</td>\n",
       "      <td>3</td>\n",
       "      <td>-3</td>\n",
       "      <td>1</td>\n",
       "      <td>1</td>\n",
       "      <td>E</td>\n",
       "    </tr>\n",
       "  </tbody>\n",
       "</table>\n",
       "</div>"
      ],
      "text/plain": [
       "             team  points  goal_difference  goals  victories group\n",
       "0  Czech Republic       4               -1      3          1     D\n",
       "1         Austria       3               -1      5          1     C\n",
       "2          France       3               -1      4          1     F\n",
       "3           Italy       3               -1      3          1     A\n",
       "4         Denmark       3               -2      6          1     B\n",
       "5        Slovakia       3               -3      1          1     E"
      ]
     },
     "metadata": {},
     "output_type": "display_data"
    },
    {
     "data": {
      "text/html": [
       "<div>\n",
       "<style scoped>\n",
       "    .dataframe tbody tr th:only-of-type {\n",
       "        vertical-align: middle;\n",
       "    }\n",
       "\n",
       "    .dataframe tbody tr th {\n",
       "        vertical-align: top;\n",
       "    }\n",
       "\n",
       "    .dataframe thead th {\n",
       "        text-align: right;\n",
       "    }\n",
       "</style>\n",
       "<table border=\"1\" class=\"dataframe\">\n",
       "  <thead>\n",
       "    <tr style=\"text-align: right;\">\n",
       "      <th></th>\n",
       "      <th>team</th>\n",
       "      <th>group</th>\n",
       "    </tr>\n",
       "  </thead>\n",
       "  <tbody>\n",
       "    <tr>\n",
       "      <th>0</th>\n",
       "      <td>Italy</td>\n",
       "      <td>A</td>\n",
       "    </tr>\n",
       "    <tr>\n",
       "      <th>1</th>\n",
       "      <td>Austria</td>\n",
       "      <td>C</td>\n",
       "    </tr>\n",
       "    <tr>\n",
       "      <th>2</th>\n",
       "      <td>Czech Republic</td>\n",
       "      <td>D</td>\n",
       "    </tr>\n",
       "    <tr>\n",
       "      <th>3</th>\n",
       "      <td>France</td>\n",
       "      <td>F</td>\n",
       "    </tr>\n",
       "  </tbody>\n",
       "</table>\n",
       "</div>"
      ],
      "text/plain": [
       "             team group\n",
       "0           Italy     A\n",
       "1         Austria     C\n",
       "2  Czech Republic     D\n",
       "3          France     F"
      ]
     },
     "metadata": {},
     "output_type": "display_data"
    },
    {
     "name": "stdout",
     "output_type": "stream",
     "text": [
      "[['Russia', 'France'], ['Turkey', 'Ukraine'], ['Germany', 'Italy'], ['England', 'Sweden'], ['Spain', 'Austria'], ['Scotland', 'Hungary'], ['Netherlands', 'Czech Republic'], ['Switzerland', 'Belgium']]\n"
     ]
    }
   ],
   "source": [
    "euro2020.simulate_tournament()"
   ]
  },
  {
   "cell_type": "code",
   "execution_count": null,
   "metadata": {},
   "outputs": [],
   "source": []
  }
 ],
 "metadata": {
  "kernelspec": {
   "display_name": "Python 3",
   "language": "python",
   "name": "python3"
  },
  "language_info": {
   "codemirror_mode": {
    "name": "ipython",
    "version": 3
   },
   "file_extension": ".py",
   "mimetype": "text/x-python",
   "name": "python",
   "nbconvert_exporter": "python",
   "pygments_lexer": "ipython3",
   "version": "3.7.3"
  }
 },
 "nbformat": 4,
 "nbformat_minor": 2
}
