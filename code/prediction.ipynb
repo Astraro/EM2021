{
 "cells": [
  {
   "cell_type": "code",
   "execution_count": 23,
   "metadata": {},
   "outputs": [],
   "source": [
    "import numpy as np\n",
    "import pandas as pd"
   ]
  },
  {
   "cell_type": "code",
   "execution_count": 24,
   "metadata": {},
   "outputs": [],
   "source": [
    "import pickle"
   ]
  },
  {
   "cell_type": "code",
   "execution_count": 25,
   "metadata": {},
   "outputs": [],
   "source": [
    "from sklearn.base import BaseEstimator, TransformerMixin"
   ]
  },
  {
   "cell_type": "code",
   "execution_count": 26,
   "metadata": {},
   "outputs": [],
   "source": [
    "class FeatureSelectionTransformer(BaseEstimator, TransformerMixin):\n",
    "#     def __init__(self):\n",
    "#         pass\n",
    "    \n",
    "    def __init__(self, type_feat = 'weighted_mean_10'):\n",
    "        self.type_feat = type_feat\n",
    "    \n",
    "    def fit(self, X, y = None):\n",
    "        return self\n",
    "    \n",
    "    def transform(self, X):\n",
    "        cols_feat = X.columns\n",
    "        cols_feat_selected = [col for col in cols_feat if self.type_feat in col]\n",
    "        \n",
    "        cols_feat_selected.sort()\n",
    "        \n",
    "        return X[cols_feat_selected]"
   ]
  },
  {
   "cell_type": "code",
   "execution_count": 27,
   "metadata": {},
   "outputs": [],
   "source": [
    "model = pickle.load(open('model_goals.pkl', 'rb'))"
   ]
  },
  {
   "cell_type": "code",
   "execution_count": 28,
   "metadata": {},
   "outputs": [],
   "source": [
    "model_2 = pickle.load(open('model_goals_2.pkl', 'rb'))"
   ]
  },
  {
   "cell_type": "code",
   "execution_count": 29,
   "metadata": {},
   "outputs": [],
   "source": [
    "data_schedule = [['Italy', 'Belgium', 'Netherlands', 'England', 'Sweden', 'France'],\n",
    "                 ['Wales', 'Denmark', 'Austria', 'Croatia', 'Spain', 'Germany'],\n",
    "                 ['Switzerland', 'Finland', 'Ukraine', 'Czech Republic', 'Slovakia', 'Portugal'],\n",
    "                 ['Turkey', 'Russia', 'North Macedonia', 'Scotland', 'Poland', 'Hungary']\n",
    "                ]"
   ]
  },
  {
   "cell_type": "code",
   "execution_count": 30,
   "metadata": {},
   "outputs": [],
   "source": [
    "df_schedule = pd.DataFrame(data = data_schedule, columns = ['Group ' + L for L in ['A', 'B', 'C', 'D', 'E', 'F']])"
   ]
  },
  {
   "cell_type": "code",
   "execution_count": 31,
   "metadata": {},
   "outputs": [
    {
     "data": {
      "text/html": [
       "<div>\n",
       "<style scoped>\n",
       "    .dataframe tbody tr th:only-of-type {\n",
       "        vertical-align: middle;\n",
       "    }\n",
       "\n",
       "    .dataframe tbody tr th {\n",
       "        vertical-align: top;\n",
       "    }\n",
       "\n",
       "    .dataframe thead th {\n",
       "        text-align: right;\n",
       "    }\n",
       "</style>\n",
       "<table border=\"1\" class=\"dataframe\">\n",
       "  <thead>\n",
       "    <tr style=\"text-align: right;\">\n",
       "      <th></th>\n",
       "      <th>Group A</th>\n",
       "      <th>Group B</th>\n",
       "      <th>Group C</th>\n",
       "      <th>Group D</th>\n",
       "      <th>Group E</th>\n",
       "      <th>Group F</th>\n",
       "    </tr>\n",
       "  </thead>\n",
       "  <tbody>\n",
       "    <tr>\n",
       "      <th>0</th>\n",
       "      <td>Italy</td>\n",
       "      <td>Belgium</td>\n",
       "      <td>Netherlands</td>\n",
       "      <td>England</td>\n",
       "      <td>Sweden</td>\n",
       "      <td>France</td>\n",
       "    </tr>\n",
       "    <tr>\n",
       "      <th>1</th>\n",
       "      <td>Wales</td>\n",
       "      <td>Denmark</td>\n",
       "      <td>Austria</td>\n",
       "      <td>Croatia</td>\n",
       "      <td>Spain</td>\n",
       "      <td>Germany</td>\n",
       "    </tr>\n",
       "    <tr>\n",
       "      <th>2</th>\n",
       "      <td>Switzerland</td>\n",
       "      <td>Finland</td>\n",
       "      <td>Ukraine</td>\n",
       "      <td>Czech Republic</td>\n",
       "      <td>Slovakia</td>\n",
       "      <td>Portugal</td>\n",
       "    </tr>\n",
       "    <tr>\n",
       "      <th>3</th>\n",
       "      <td>Turkey</td>\n",
       "      <td>Russia</td>\n",
       "      <td>North Macedonia</td>\n",
       "      <td>Scotland</td>\n",
       "      <td>Poland</td>\n",
       "      <td>Hungary</td>\n",
       "    </tr>\n",
       "  </tbody>\n",
       "</table>\n",
       "</div>"
      ],
      "text/plain": [
       "       Group A  Group B          Group C         Group D   Group E   Group F\n",
       "0        Italy  Belgium      Netherlands         England    Sweden    France\n",
       "1        Wales  Denmark          Austria         Croatia     Spain   Germany\n",
       "2  Switzerland  Finland          Ukraine  Czech Republic  Slovakia  Portugal\n",
       "3       Turkey   Russia  North Macedonia        Scotland    Poland   Hungary"
      ]
     },
     "execution_count": 31,
     "metadata": {},
     "output_type": "execute_result"
    }
   ],
   "source": [
    "df_schedule"
   ]
  },
  {
   "cell_type": "code",
   "execution_count": 32,
   "metadata": {},
   "outputs": [],
   "source": [
    "import itertools"
   ]
  },
  {
   "cell_type": "code",
   "execution_count": 33,
   "metadata": {},
   "outputs": [],
   "source": [
    "df_feat_teams = pd.read_excel('features_last_game.xlsx', encoding = 'iso-8859-1')"
   ]
  },
  {
   "cell_type": "code",
   "execution_count": 34,
   "metadata": {},
   "outputs": [],
   "source": [
    "def prepare_games_in_group(list_of_teams, df_feat_teams):\n",
    "    df_schedule_group = pd.DataFrame(data = list(itertools.combinations(list_of_teams, 2)), columns = ['team_A', 'team_B'])\n",
    "    \n",
    "    df_feat_teams_A = df_feat_teams.copy()\n",
    "    df_feat_teams_A.columns = [col + '_A' for col in df_feat_teams_A.columns]\n",
    "    \n",
    "    df_feat_teams_B = df_feat_teams.copy()\n",
    "    df_feat_teams_B.columns = [col + '_B' for col in df_feat_teams_B.columns]\n",
    "    \n",
    "    df_schedule_group_feat = pd.merge(df_schedule_group, df_feat_teams_A, how = 'inner', on = 'team_A')\n",
    "    df_schedule_group_feat = pd.merge(df_schedule_group_feat, df_feat_teams_B, how = 'inner', on = 'team_B')\n",
    "    \n",
    "    return df_schedule_group_feat"
   ]
  },
  {
   "cell_type": "code",
   "execution_count": 35,
   "metadata": {},
   "outputs": [
    {
     "ename": "NameError",
     "evalue": "name 'teams' is not defined",
     "output_type": "error",
     "traceback": [
      "\u001b[1;31m---------------------------------------------------------------------------\u001b[0m",
      "\u001b[1;31mNameError\u001b[0m                                 Traceback (most recent call last)",
      "\u001b[1;32m<ipython-input-35-7416a3713df1>\u001b[0m in \u001b[0;36m<module>\u001b[1;34m\u001b[0m\n\u001b[1;32m----> 1\u001b[1;33m \u001b[0mufawe\u001b[0m \u001b[1;33m=\u001b[0m \u001b[0mprepare_games_in_group\u001b[0m\u001b[1;33m(\u001b[0m\u001b[0mteams\u001b[0m\u001b[1;33m,\u001b[0m \u001b[0mdf_feat_teams\u001b[0m\u001b[1;33m)\u001b[0m\u001b[1;33m\u001b[0m\u001b[1;33m\u001b[0m\u001b[0m\n\u001b[0m",
      "\u001b[1;31mNameError\u001b[0m: name 'teams' is not defined"
     ]
    }
   ],
   "source": [
    "ufawe = prepare_games_in_group(teams, df_feat_teams)"
   ]
  },
  {
   "cell_type": "code",
   "execution_count": null,
   "metadata": {},
   "outputs": [],
   "source": [
    "ufawe"
   ]
  },
  {
   "cell_type": "code",
   "execution_count": null,
   "metadata": {},
   "outputs": [],
   "source": [
    "def change_A_B_in_cols(name):\n",
    "    name_new = name\n",
    "    if name[-1] == 'A':\n",
    "        name_new = name.replace('_A', '_B')\n",
    "    elif name[-1] == 'B':\n",
    "        name_new = name.replace('_B', '_A')\n",
    "    \n",
    "    return name_new"
   ]
  },
  {
   "cell_type": "code",
   "execution_count": null,
   "metadata": {},
   "outputs": [],
   "source": [
    "ufawe2 = ufawe.copy()"
   ]
  },
  {
   "cell_type": "code",
   "execution_count": null,
   "metadata": {},
   "outputs": [],
   "source": [
    "ufawe2.columns = [change_A_B_in_cols(col_name) for col_name in ufawe.columns.values]"
   ]
  },
  {
   "cell_type": "code",
   "execution_count": null,
   "metadata": {},
   "outputs": [],
   "source": [
    "feat_transformer = FeatureSelectionTransformer('weighted_mean_5')"
   ]
  },
  {
   "cell_type": "code",
   "execution_count": null,
   "metadata": {},
   "outputs": [],
   "source": [
    "feat_transformer.transform(ufawe)"
   ]
  },
  {
   "cell_type": "code",
   "execution_count": null,
   "metadata": {},
   "outputs": [],
   "source": [
    "feat_transformer.transform(ufawe2)"
   ]
  },
  {
   "cell_type": "code",
   "execution_count": null,
   "metadata": {},
   "outputs": [],
   "source": [
    "p1 = model_2.predict_proba(ufawe)"
   ]
  },
  {
   "cell_type": "code",
   "execution_count": null,
   "metadata": {},
   "outputs": [],
   "source": [
    "p2 = model_2.predict_proba(ufawe2)"
   ]
  },
  {
   "cell_type": "code",
   "execution_count": null,
   "metadata": {},
   "outputs": [],
   "source": [
    "def simulate_game(p_goals_A, p_goals_B):\n",
    "    \n",
    "    \n",
    "    \n",
    "    population_goals = [i for i in range(10)]\n",
    "    goals_sim_A = choices(population_goals, p_goals_A)[0]\n",
    "    goals_sim_B = choices(population_goals, p_goals_B)[0]\n",
    "    \n",
    "    return goals_sim_A, goals_sim_B"
   ]
  },
  {
   "cell_type": "code",
   "execution_count": null,
   "metadata": {},
   "outputs": [],
   "source": [
    "from random import choices"
   ]
  },
  {
   "cell_type": "code",
   "execution_count": null,
   "metadata": {},
   "outputs": [],
   "source": [
    "from collections import Counter"
   ]
  },
  {
   "cell_type": "code",
   "execution_count": null,
   "metadata": {},
   "outputs": [],
   "source": [
    "games = [simulate_game(p1[2], p2[2]) for i in range(100)]"
   ]
  },
  {
   "cell_type": "code",
   "execution_count": null,
   "metadata": {},
   "outputs": [],
   "source": [
    "df_feat_teams"
   ]
  },
  {
   "cell_type": "code",
   "execution_count": null,
   "metadata": {},
   "outputs": [],
   "source": [
    "from random import choices"
   ]
  },
  {
   "cell_type": "code",
   "execution_count": null,
   "metadata": {},
   "outputs": [],
   "source": [
    "X = [[0.5, 0.5], [0.3, 0.7]]\n",
    "Y = [[0.1, 0.9], [0.9, 0.1]]\n",
    "\n",
    "XY = list(zip(X, Y))"
   ]
  },
  {
   "cell_type": "code",
   "execution_count": null,
   "metadata": {},
   "outputs": [],
   "source": [
    "XY"
   ]
  },
  {
   "cell_type": "code",
   "execution_count": null,
   "metadata": {},
   "outputs": [],
   "source": [
    "def simulate_game(p_goals_A, p_goals_B):\n",
    "    population_goals = [i for i in range(10)]\n",
    "    goals_sim_A = choices(population_goals, p_goals_A)[0]\n",
    "    goals_sim_B = choices(population_goals, p_goals_B)[0]\n",
    "    \n",
    "    return goals_sim_A, goals_sim_B"
   ]
  },
  {
   "cell_type": "code",
   "execution_count": null,
   "metadata": {},
   "outputs": [],
   "source": [
    "dfii = pd.DataFrame(data = [[1,2], [3,4]], columns = ['A', 'B'])"
   ]
  },
  {
   "cell_type": "code",
   "execution_count": null,
   "metadata": {},
   "outputs": [],
   "source": [
    "dfii"
   ]
  },
  {
   "cell_type": "code",
   "execution_count": null,
   "metadata": {},
   "outputs": [],
   "source": [
    "dfii['C'], dfii['D'] = [[1, 2], [3, 4]]"
   ]
  },
  {
   "cell_type": "code",
   "execution_count": null,
   "metadata": {},
   "outputs": [],
   "source": [
    "dfii"
   ]
  },
  {
   "cell_type": "code",
   "execution_count": null,
   "metadata": {},
   "outputs": [],
   "source": [
    "def compute_points(goals_1, goals_2):\n",
    "    if goals_1 > goals_2:\n",
    "        return 3\n",
    "    elif goals_1 == goals_2:\n",
    "        return 1\n",
    "    else:\n",
    "        return 0"
   ]
  },
  {
   "cell_type": "code",
   "execution_count": null,
   "metadata": {},
   "outputs": [],
   "source": [
    "def change_A_B_in_cols(name):\n",
    "    if name[-2:] == '_A':\n",
    "        return name[:-2] + '_B'\n",
    "    else:\n",
    "        return name[:-2] + '_A'"
   ]
  },
  {
   "cell_type": "code",
   "execution_count": null,
   "metadata": {},
   "outputs": [],
   "source": [
    "class Group():\n",
    "    def __init__(self, list_of_teams, df_feat, model):\n",
    "        self.list_of_teams = list_of_teams\n",
    "        self.list_of_pairings = list(itertools.combinations(self.list_of_teams, 2))\n",
    "        \n",
    "        self.df_pairings = pd.DataFrame(data = self.get_pairings(), columns = ['team_A', 'team_B'])\n",
    "        \n",
    "        self.df_feat = df_feat[df_feat['team'].isin(list_of_teams)].reset_index(drop = True)\n",
    "        \n",
    "        df_feat_A = df_feat.copy()\n",
    "        cols_A = [col + '_A' for col in df_feat_A.columns]\n",
    "        df_feat_A.columns = cols_A\n",
    "        \n",
    "        df_feat_B = df_feat.copy()\n",
    "        cols_B = [col + '_B' for col in df_feat_B.columns]\n",
    "        df_feat_B.columns = cols_B\n",
    "        \n",
    "        df_feat_goals_A = pd.merge(self.df_pairings, df_feat_A, how = 'inner', on = 'team_A')\n",
    "        df_feat_goals_A = pd.merge(df_feat_goals_A, df_feat_B, how = 'inner', on = 'team_B')\n",
    "        \n",
    "        df_feat_goals_B = self.df_pairings.copy()\n",
    "        df_feat_goals_B.columns = ['team_B', 'team_A']\n",
    "        df_feat_goals_B = pd.merge(df_feat_goals_B, df_feat_B, how = 'inner', on = 'team_B')\n",
    "        df_feat_goals_B = pd.merge(df_feat_goals_B, df_feat_A, how = 'inner', on = 'team_A')\n",
    "        \n",
    "        self.prob_distr_goals_A = model.predict_proba(df_feat_goals_A)\n",
    "        self.prob_distr_goals_B = model.predict_proba(df_feat_goals_B)\n",
    "        \n",
    "    def get_pairings(self):\n",
    "        return self.list_of_pairings\n",
    "    \n",
    "    def simulate_group(self):\n",
    "        population_goals = [i for i in range(10)]\n",
    "        df_results = self.df_pairings.copy()\n",
    "        \n",
    "        goals_sim_team_A = [choices(population_goals, self.prob_distr_goals_A[i])[0] for i in range(len(self.prob_distr_goals_A))]\n",
    "        goals_sim_team_B = [choices(population_goals, self.prob_distr_goals_B[i])[0] for i in range(len(self.prob_distr_goals_B))]\n",
    "                            \n",
    "        df_results['goals_sim_A'], df_results['goals_sim_B'] = goals_sim_team_A, goals_sim_team_B\n",
    "        \n",
    "        df_results['points_sim_A'] = df_results.apply(lambda row : compute_points(row['goals_sim_A'], row['goals_sim_B']), axis = 1)\n",
    "        df_results['points_sim_B'] = df_results.apply(lambda row : compute_points(row['goals_sim_B'], row['goals_sim_A']), axis = 1)\n",
    "        \n",
    "#         display(df_results)\n",
    "        \n",
    "        df_results_mirrored = df_results.copy()\n",
    "        df_results_mirrored.columns = [change_A_B_in_cols(col) for col in df_results_mirrored.columns]\n",
    "        \n",
    "        df_results = pd.concat([df_results, df_results_mirrored], axis = 0).reset_index(drop = True)\n",
    "        df_results['victories_sim_A'] = df_results['points_sim_A'].apply(lambda points : int(points == 3))\n",
    "        \n",
    "        df_results = df_results.groupby('team_A')['points_sim_A', 'goals_sim_A', 'goals_sim_B', 'victories_sim_A'].agg('sum').reset_index()\n",
    "        df_results['difference_sim_A'] = df_results.apply(lambda row : row['goals_sim_A'] - row['goals_sim_B'], axis = 1)\n",
    "        \n",
    "        df_results = df_results.sort_values(by = ['points_sim_A', 'difference_sim_A', 'goals_sim_A'], ascending = [0, 0, 0])\n",
    "        df_results = df_results.reset_index(drop = True)\n",
    "        \n",
    "#         print(df_results['team_A'].values[:2])\n",
    "#         print(df_results.iloc[2].values)\n",
    "        \n",
    "        cols_third_team = ['team_A', 'points_sim_A', 'difference_sim_A', 'goals_sim_A', 'victories_sim_A']\n",
    "    \n",
    "        return list(df_results['team_A'].values[:2]) +  list(df_results[cols_third_team].iloc[2].values)"
   ]
  },
  {
   "cell_type": "code",
   "execution_count": null,
   "metadata": {},
   "outputs": [],
   "source": [
    "g_A = Group(teams, df_feat_teams, model_2)"
   ]
  },
  {
   "cell_type": "code",
   "execution_count": null,
   "metadata": {},
   "outputs": [],
   "source": [
    "X = g_A.simulate_group()"
   ]
  },
  {
   "cell_type": "code",
   "execution_count": null,
   "metadata": {},
   "outputs": [],
   "source": [
    "class EURO2020():\n",
    "    def __init__(self, df_schedule, df_feat, model):\n",
    "        self.groups = [Group(df_schedule[col].values, df_feat, model) for col in df_schedule]\n",
    "        \n",
    "    def simulate_tournament(self):\n",
    "        results_groups = [g.simulate_group() for g in self.groups]\n",
    "        \n",
    "        data_thirds = [result_group[2:] for result_group in results_groups]\n",
    "        \n",
    "        df_ranking_thirds = pd.DataFrame(data = data_thirds, columns = ['team', 'points', 'goal_difference', 'goals', 'victories'])\n",
    "        df_ranking_thirds['group'] = ['A', 'B', 'C', 'D', 'E', 'F']\n",
    "        \n",
    "        df_ranking_thirds = df_ranking_thirds.sort_values(by = ['points', 'goal_difference', 'goals', 'victories'], ascending = [0, 0, 0, 0]).reset_index(drop = True)\n",
    "        \n",
    "        print(results_groups)\n",
    "        display(df_ranking_thirds)"
   ]
  },
  {
   "cell_type": "code",
   "execution_count": null,
   "metadata": {},
   "outputs": [],
   "source": [
    "euro2020 = EURO2020(df_schedule, df_feat_teams, model_2)"
   ]
  },
  {
   "cell_type": "code",
   "execution_count": null,
   "metadata": {},
   "outputs": [],
   "source": [
    "euro2020.simulate_tournament()"
   ]
  },
  {
   "cell_type": "code",
   "execution_count": null,
   "metadata": {},
   "outputs": [],
   "source": []
  },
  {
   "cell_type": "code",
   "execution_count": null,
   "metadata": {},
   "outputs": [],
   "source": [
    "g_A = Group(teams, df_feat_teams, model_2)"
   ]
  },
  {
   "cell_type": "code",
   "execution_count": null,
   "metadata": {},
   "outputs": [],
   "source": [
    "X = g_A.simulate_group()"
   ]
  },
  {
   "cell_type": "code",
   "execution_count": null,
   "metadata": {},
   "outputs": [],
   "source": [
    "X = [g_A.simulate_group() for i in range(10000)]"
   ]
  },
  {
   "cell_type": "code",
   "execution_count": null,
   "metadata": {},
   "outputs": [],
   "source": [
    "winner = [result[0] for result in X]"
   ]
  },
  {
   "cell_type": "code",
   "execution_count": null,
   "metadata": {},
   "outputs": [],
   "source": [
    "Counter(winner).most_common()"
   ]
  },
  {
   "cell_type": "code",
   "execution_count": null,
   "metadata": {},
   "outputs": [],
   "source": [
    "g_A.get_pairings()"
   ]
  }
 ],
 "metadata": {
  "kernelspec": {
   "display_name": "Python 3",
   "language": "python",
   "name": "python3"
  },
  "language_info": {
   "codemirror_mode": {
    "name": "ipython",
    "version": 3
   },
   "file_extension": ".py",
   "mimetype": "text/x-python",
   "name": "python",
   "nbconvert_exporter": "python",
   "pygments_lexer": "ipython3",
   "version": "3.7.3"
  }
 },
 "nbformat": 4,
 "nbformat_minor": 2
}
