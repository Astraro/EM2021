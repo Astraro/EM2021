{
 "cells": [
  {
   "cell_type": "markdown",
   "metadata": {},
   "source": [
    "# Model Building"
   ]
  },
  {
   "cell_type": "markdown",
   "metadata": {},
   "source": [
    "This file is part of my work on Udacity's Nano Degree Programme.\n",
    "\n",
    "As capstone project I compare the performance of a machine learning model in predicting matches of the 2020 UEFA European Football Championship with emy personal bets in a football guessing game played on the platform www.kicktipp.de"
   ]
  },
  {
   "cell_type": "markdown",
   "metadata": {},
   "source": [
    "In this notebook a simple model is trained that predicts the number of goals of a team in a match. As features serve the rolling averages that arise from the previous feature engineering step."
   ]
  },
  {
   "cell_type": "markdown",
   "metadata": {},
   "source": [
    "The model is a simple Random Forest trained using GridSearch. As parameters for GridSearch serve the depth of the tree and the different types of rolling averages from the feature engineering step."
   ]
  },
  {
   "cell_type": "code",
   "execution_count": 22,
   "metadata": {},
   "outputs": [],
   "source": [
    "import numpy as np\n",
    "import pandas as pd"
   ]
  },
  {
   "cell_type": "code",
   "execution_count": 23,
   "metadata": {},
   "outputs": [],
   "source": [
    "import os"
   ]
  },
  {
   "cell_type": "code",
   "execution_count": 24,
   "metadata": {},
   "outputs": [],
   "source": [
    "import pickle"
   ]
  },
  {
   "cell_type": "code",
   "execution_count": 25,
   "metadata": {},
   "outputs": [],
   "source": [
    "from sklearn.base import BaseEstimator, TransformerMixin"
   ]
  },
  {
   "cell_type": "code",
   "execution_count": 26,
   "metadata": {},
   "outputs": [],
   "source": [
    "from sklearn.pipeline import Pipeline"
   ]
  },
  {
   "cell_type": "code",
   "execution_count": 27,
   "metadata": {},
   "outputs": [],
   "source": [
    "from sklearn.model_selection import train_test_split\n",
    "from sklearn.model_selection import GridSearchCV"
   ]
  },
  {
   "cell_type": "code",
   "execution_count": 28,
   "metadata": {},
   "outputs": [],
   "source": [
    "from sklearn.ensemble import RandomForestClassifier"
   ]
  },
  {
   "cell_type": "markdown",
   "metadata": {},
   "source": [
    "## Input parameter"
   ]
  },
  {
   "cell_type": "code",
   "execution_count": 29,
   "metadata": {},
   "outputs": [],
   "source": [
    "file_matches_training = '20210825_features_matches_training.xlsx'\n",
    "name_output_model = 'model_new.pkl'\n",
    "\n",
    "path_input = '../data/'\n",
    "path_models = '../models/'"
   ]
  },
  {
   "cell_type": "markdown",
   "metadata": {},
   "source": [
    "## Model building"
   ]
  },
  {
   "cell_type": "code",
   "execution_count": 30,
   "metadata": {},
   "outputs": [],
   "source": [
    "# The FeatureSelectionTransformer chooses only engineered features w.r.t. a single (weighted) average\n",
    "class FeatureSelectionTransformer(BaseEstimator, TransformerMixin):\n",
    "    \n",
    "    def __init__(self, type_feat = 'weighted_mean_10'):\n",
    "        self.type_feat = type_feat\n",
    "    \n",
    "    def fit(self, X, y = None):\n",
    "        return self\n",
    "    \n",
    "    def transform(self, X):\n",
    "        cols_feat = X.columns\n",
    "        cols_feat_selected = [col for col in cols_feat if self.type_feat in col]\n",
    "        \n",
    "        cols_feat_selected.sort()\n",
    "        \n",
    "        return X[cols_feat_selected]"
   ]
  },
  {
   "cell_type": "markdown",
   "metadata": {},
   "source": [
    "### Preparation of Train, Test, Split"
   ]
  },
  {
   "cell_type": "code",
   "execution_count": 31,
   "metadata": {},
   "outputs": [],
   "source": [
    "# Reading of the training data\n",
    "df_train = pd.read_excel(os.path.join(path_input, file_matches_training),\n",
    "                         encoding = 'iso-8859-1'\n",
    "                        )"
   ]
  },
  {
   "cell_type": "code",
   "execution_count": 32,
   "metadata": {},
   "outputs": [
    {
     "data": {
      "text/html": [
       "<div>\n",
       "<style scoped>\n",
       "    .dataframe tbody tr th:only-of-type {\n",
       "        vertical-align: middle;\n",
       "    }\n",
       "\n",
       "    .dataframe tbody tr th {\n",
       "        vertical-align: top;\n",
       "    }\n",
       "\n",
       "    .dataframe thead th {\n",
       "        text-align: right;\n",
       "    }\n",
       "</style>\n",
       "<table border=\"1\" class=\"dataframe\">\n",
       "  <thead>\n",
       "    <tr style=\"text-align: right;\">\n",
       "      <th></th>\n",
       "      <th>date</th>\n",
       "      <th>team_A</th>\n",
       "      <th>team_B</th>\n",
       "      <th>goals_A</th>\n",
       "      <th>goals_weighted_mean_5_A</th>\n",
       "      <th>goals_weighted_mean_10_A</th>\n",
       "      <th>goals_normal_mean_5_A</th>\n",
       "      <th>goals_normal_mean_10_A</th>\n",
       "      <th>attempts_total_weighted_mean_5_A</th>\n",
       "      <th>attempts_total_weighted_mean_10_A</th>\n",
       "      <th>...</th>\n",
       "      <th>blocks_normal_mean_5_B</th>\n",
       "      <th>blocks_normal_mean_10_B</th>\n",
       "      <th>clearances_weighted_mean_5_B</th>\n",
       "      <th>clearances_weighted_mean_10_B</th>\n",
       "      <th>clearances_normal_mean_5_B</th>\n",
       "      <th>clearances_normal_mean_10_B</th>\n",
       "      <th>passes_accuracy_weighted_mean_5_B</th>\n",
       "      <th>passes_accuracy_weighted_mean_10_B</th>\n",
       "      <th>passes_accuracy_normal_mean_5_B</th>\n",
       "      <th>passes_accuracy_normal_mean_10_B</th>\n",
       "    </tr>\n",
       "  </thead>\n",
       "  <tbody>\n",
       "    <tr>\n",
       "      <th>0</th>\n",
       "      <td>2020-09-04 18:45:00</td>\n",
       "      <td>Italy</td>\n",
       "      <td>Bosnia and Herzegovina</td>\n",
       "      <td>1</td>\n",
       "      <td>4.244941</td>\n",
       "      <td>4.116726</td>\n",
       "      <td>4.2</td>\n",
       "      <td>3.7</td>\n",
       "      <td>18.396572</td>\n",
       "      <td>19.617894</td>\n",
       "      <td>...</td>\n",
       "      <td>3.4</td>\n",
       "      <td>2.7</td>\n",
       "      <td>0.0</td>\n",
       "      <td>0.000000</td>\n",
       "      <td>0.0</td>\n",
       "      <td>0.0</td>\n",
       "      <td>78.923203</td>\n",
       "      <td>84.556986</td>\n",
       "      <td>87.6</td>\n",
       "      <td>86.6</td>\n",
       "    </tr>\n",
       "    <tr>\n",
       "      <th>1</th>\n",
       "      <td>2020-09-04 18:45:00</td>\n",
       "      <td>Netherlands</td>\n",
       "      <td>Poland</td>\n",
       "      <td>1</td>\n",
       "      <td>2.509940</td>\n",
       "      <td>2.637424</td>\n",
       "      <td>2.8</td>\n",
       "      <td>2.7</td>\n",
       "      <td>17.417330</td>\n",
       "      <td>17.555740</td>\n",
       "      <td>...</td>\n",
       "      <td>3.4</td>\n",
       "      <td>2.8</td>\n",
       "      <td>0.0</td>\n",
       "      <td>0.000000</td>\n",
       "      <td>0.0</td>\n",
       "      <td>0.0</td>\n",
       "      <td>75.829301</td>\n",
       "      <td>81.102871</td>\n",
       "      <td>84.8</td>\n",
       "      <td>83.2</td>\n",
       "    </tr>\n",
       "    <tr>\n",
       "      <th>2</th>\n",
       "      <td>2020-09-07 18:45:00</td>\n",
       "      <td>Bosnia and Herzegovina</td>\n",
       "      <td>Poland</td>\n",
       "      <td>1</td>\n",
       "      <td>1.505589</td>\n",
       "      <td>1.764878</td>\n",
       "      <td>1.8</td>\n",
       "      <td>1.9</td>\n",
       "      <td>14.557373</td>\n",
       "      <td>16.215489</td>\n",
       "      <td>...</td>\n",
       "      <td>3.0</td>\n",
       "      <td>2.9</td>\n",
       "      <td>0.0</td>\n",
       "      <td>0.000000</td>\n",
       "      <td>0.0</td>\n",
       "      <td>0.0</td>\n",
       "      <td>74.230419</td>\n",
       "      <td>80.144467</td>\n",
       "      <td>83.8</td>\n",
       "      <td>83.5</td>\n",
       "    </tr>\n",
       "    <tr>\n",
       "      <th>3</th>\n",
       "      <td>2020-09-07 18:45:00</td>\n",
       "      <td>Netherlands</td>\n",
       "      <td>Italy</td>\n",
       "      <td>0</td>\n",
       "      <td>1.942797</td>\n",
       "      <td>2.272537</td>\n",
       "      <td>2.2</td>\n",
       "      <td>2.4</td>\n",
       "      <td>16.164877</td>\n",
       "      <td>17.235452</td>\n",
       "      <td>...</td>\n",
       "      <td>2.8</td>\n",
       "      <td>2.2</td>\n",
       "      <td>0.0</td>\n",
       "      <td>0.000000</td>\n",
       "      <td>0.0</td>\n",
       "      <td>0.0</td>\n",
       "      <td>80.241055</td>\n",
       "      <td>86.418340</td>\n",
       "      <td>89.8</td>\n",
       "      <td>89.4</td>\n",
       "    </tr>\n",
       "    <tr>\n",
       "      <th>4</th>\n",
       "      <td>2020-10-11 16:00:00</td>\n",
       "      <td>Bosnia and Herzegovina</td>\n",
       "      <td>Netherlands</td>\n",
       "      <td>0</td>\n",
       "      <td>1.066147</td>\n",
       "      <td>1.536431</td>\n",
       "      <td>1.2</td>\n",
       "      <td>1.9</td>\n",
       "      <td>14.566120</td>\n",
       "      <td>15.793928</td>\n",
       "      <td>...</td>\n",
       "      <td>2.0</td>\n",
       "      <td>2.3</td>\n",
       "      <td>0.0</td>\n",
       "      <td>0.938661</td>\n",
       "      <td>0.0</td>\n",
       "      <td>2.2</td>\n",
       "      <td>77.367331</td>\n",
       "      <td>83.784879</td>\n",
       "      <td>87.0</td>\n",
       "      <td>87.2</td>\n",
       "    </tr>\n",
       "  </tbody>\n",
       "</table>\n",
       "<p>5 rows × 125 columns</p>\n",
       "</div>"
      ],
      "text/plain": [
       "                 date                  team_A                  team_B  \\\n",
       "0 2020-09-04 18:45:00                   Italy  Bosnia and Herzegovina   \n",
       "1 2020-09-04 18:45:00             Netherlands                  Poland   \n",
       "2 2020-09-07 18:45:00  Bosnia and Herzegovina                  Poland   \n",
       "3 2020-09-07 18:45:00             Netherlands                   Italy   \n",
       "4 2020-10-11 16:00:00  Bosnia and Herzegovina             Netherlands   \n",
       "\n",
       "   goals_A  goals_weighted_mean_5_A  goals_weighted_mean_10_A  \\\n",
       "0        1                 4.244941                  4.116726   \n",
       "1        1                 2.509940                  2.637424   \n",
       "2        1                 1.505589                  1.764878   \n",
       "3        0                 1.942797                  2.272537   \n",
       "4        0                 1.066147                  1.536431   \n",
       "\n",
       "   goals_normal_mean_5_A  goals_normal_mean_10_A  \\\n",
       "0                    4.2                     3.7   \n",
       "1                    2.8                     2.7   \n",
       "2                    1.8                     1.9   \n",
       "3                    2.2                     2.4   \n",
       "4                    1.2                     1.9   \n",
       "\n",
       "   attempts_total_weighted_mean_5_A  attempts_total_weighted_mean_10_A  ...  \\\n",
       "0                         18.396572                          19.617894  ...   \n",
       "1                         17.417330                          17.555740  ...   \n",
       "2                         14.557373                          16.215489  ...   \n",
       "3                         16.164877                          17.235452  ...   \n",
       "4                         14.566120                          15.793928  ...   \n",
       "\n",
       "   blocks_normal_mean_5_B  blocks_normal_mean_10_B  \\\n",
       "0                     3.4                      2.7   \n",
       "1                     3.4                      2.8   \n",
       "2                     3.0                      2.9   \n",
       "3                     2.8                      2.2   \n",
       "4                     2.0                      2.3   \n",
       "\n",
       "   clearances_weighted_mean_5_B  clearances_weighted_mean_10_B  \\\n",
       "0                           0.0                       0.000000   \n",
       "1                           0.0                       0.000000   \n",
       "2                           0.0                       0.000000   \n",
       "3                           0.0                       0.000000   \n",
       "4                           0.0                       0.938661   \n",
       "\n",
       "   clearances_normal_mean_5_B  clearances_normal_mean_10_B  \\\n",
       "0                         0.0                          0.0   \n",
       "1                         0.0                          0.0   \n",
       "2                         0.0                          0.0   \n",
       "3                         0.0                          0.0   \n",
       "4                         0.0                          2.2   \n",
       "\n",
       "   passes_accuracy_weighted_mean_5_B  passes_accuracy_weighted_mean_10_B  \\\n",
       "0                          78.923203                           84.556986   \n",
       "1                          75.829301                           81.102871   \n",
       "2                          74.230419                           80.144467   \n",
       "3                          80.241055                           86.418340   \n",
       "4                          77.367331                           83.784879   \n",
       "\n",
       "   passes_accuracy_normal_mean_5_B  passes_accuracy_normal_mean_10_B  \n",
       "0                             87.6                              86.6  \n",
       "1                             84.8                              83.2  \n",
       "2                             83.8                              83.5  \n",
       "3                             89.8                              89.4  \n",
       "4                             87.0                              87.2  \n",
       "\n",
       "[5 rows x 125 columns]"
      ]
     },
     "execution_count": 32,
     "metadata": {},
     "output_type": "execute_result"
    }
   ],
   "source": [
    "df_train.head(5)"
   ]
  },
  {
   "cell_type": "code",
   "execution_count": 33,
   "metadata": {},
   "outputs": [],
   "source": [
    "cols_blacklist = ['date', 'team_A', 'team_B', 'goals_A', 'goals_B']\n",
    "cols_to_keep = [col for col in df_train.columns if col not in cols_blacklist]"
   ]
  },
  {
   "cell_type": "code",
   "execution_count": 34,
   "metadata": {},
   "outputs": [],
   "source": [
    "X = df_train[cols_to_keep]\n",
    "y = df_train['goals_A'].astype(int)"
   ]
  },
  {
   "cell_type": "code",
   "execution_count": 35,
   "metadata": {},
   "outputs": [],
   "source": [
    "X_train, X_test, y_train, y_test = train_test_split(X, y, test_size = 0.25, random_state = 42)"
   ]
  },
  {
   "cell_type": "markdown",
   "metadata": {},
   "source": [
    "### Pipeline and GridSearch"
   ]
  },
  {
   "cell_type": "code",
   "execution_count": 36,
   "metadata": {},
   "outputs": [],
   "source": [
    "# We train a very simple model.\n",
    "# It justs consists of a feature selection (which type of rolling average we choose) and a RandomForest\n",
    "pipe = Pipeline([('Transformer_FeatSelection', FeatureSelectionTransformer()),\n",
    "                 ('clf', RandomForestClassifier(n_estimators = 200, n_jobs = 4))\n",
    "                ])"
   ]
  },
  {
   "cell_type": "code",
   "execution_count": 37,
   "metadata": {},
   "outputs": [],
   "source": [
    "# The GridSearch just performs on the different types of rolling averages and different depths of the random forest\n",
    "parameters = {'Transformer_FeatSelection__type_feat' : ['weighted_mean_5', 'weighted_mean_10', 'normal_mean_5', 'normal_mean_10'],\n",
    "              'clf__max_depth' : [3, 5, 10, 20]\n",
    "             }"
   ]
  },
  {
   "cell_type": "code",
   "execution_count": 38,
   "metadata": {},
   "outputs": [],
   "source": [
    "cv = GridSearchCV(pipe, param_grid = parameters, verbose = 3)"
   ]
  },
  {
   "cell_type": "code",
   "execution_count": 39,
   "metadata": {},
   "outputs": [
    {
     "name": "stdout",
     "output_type": "stream",
     "text": [
      "Fitting 5 folds for each of 16 candidates, totalling 80 fits\n",
      "[CV] Transformer_FeatSelection__type_feat=weighted_mean_5, clf__max_depth=3 \n"
     ]
    },
    {
     "name": "stderr",
     "output_type": "stream",
     "text": [
      "C:\\Users\\CF\\Anaconda3\\lib\\site-packages\\sklearn\\model_selection\\_split.py:667: UserWarning: The least populated class in y has only 1 members, which is less than n_splits=5.\n",
      "  % (min_groups, self.n_splits)), UserWarning)\n",
      "[Parallel(n_jobs=1)]: Using backend SequentialBackend with 1 concurrent workers.\n"
     ]
    },
    {
     "name": "stdout",
     "output_type": "stream",
     "text": [
      "[CV]  Transformer_FeatSelection__type_feat=weighted_mean_5, clf__max_depth=3, score=0.356, total=   4.5s\n",
      "[CV] Transformer_FeatSelection__type_feat=weighted_mean_5, clf__max_depth=3 \n"
     ]
    },
    {
     "name": "stderr",
     "output_type": "stream",
     "text": [
      "[Parallel(n_jobs=1)]: Done   1 out of   1 | elapsed:    4.4s remaining:    0.0s\n"
     ]
    },
    {
     "name": "stdout",
     "output_type": "stream",
     "text": [
      "[CV]  Transformer_FeatSelection__type_feat=weighted_mean_5, clf__max_depth=3, score=0.356, total=   0.6s\n",
      "[CV] Transformer_FeatSelection__type_feat=weighted_mean_5, clf__max_depth=3 \n"
     ]
    },
    {
     "name": "stderr",
     "output_type": "stream",
     "text": [
      "[Parallel(n_jobs=1)]: Done   2 out of   2 | elapsed:    5.1s remaining:    0.0s\n"
     ]
    },
    {
     "name": "stdout",
     "output_type": "stream",
     "text": [
      "[CV]  Transformer_FeatSelection__type_feat=weighted_mean_5, clf__max_depth=3, score=0.381, total=   0.6s\n",
      "[CV] Transformer_FeatSelection__type_feat=weighted_mean_5, clf__max_depth=3 \n",
      "[CV]  Transformer_FeatSelection__type_feat=weighted_mean_5, clf__max_depth=3, score=0.371, total=   0.6s\n",
      "[CV] Transformer_FeatSelection__type_feat=weighted_mean_5, clf__max_depth=3 \n",
      "[CV]  Transformer_FeatSelection__type_feat=weighted_mean_5, clf__max_depth=3, score=0.371, total=   0.7s\n",
      "[CV] Transformer_FeatSelection__type_feat=weighted_mean_5, clf__max_depth=5 \n",
      "[CV]  Transformer_FeatSelection__type_feat=weighted_mean_5, clf__max_depth=5, score=0.338, total=   0.7s\n",
      "[CV] Transformer_FeatSelection__type_feat=weighted_mean_5, clf__max_depth=5 \n",
      "[CV]  Transformer_FeatSelection__type_feat=weighted_mean_5, clf__max_depth=5, score=0.369, total=   1.0s\n",
      "[CV] Transformer_FeatSelection__type_feat=weighted_mean_5, clf__max_depth=5 \n",
      "[CV]  Transformer_FeatSelection__type_feat=weighted_mean_5, clf__max_depth=5, score=0.362, total=   0.9s\n",
      "[CV] Transformer_FeatSelection__type_feat=weighted_mean_5, clf__max_depth=5 \n",
      "[CV]  Transformer_FeatSelection__type_feat=weighted_mean_5, clf__max_depth=5, score=0.340, total=   0.6s\n",
      "[CV] Transformer_FeatSelection__type_feat=weighted_mean_5, clf__max_depth=5 \n",
      "[CV]  Transformer_FeatSelection__type_feat=weighted_mean_5, clf__max_depth=5, score=0.377, total=   0.6s\n",
      "[CV] Transformer_FeatSelection__type_feat=weighted_mean_5, clf__max_depth=10 \n",
      "[CV]  Transformer_FeatSelection__type_feat=weighted_mean_5, clf__max_depth=10, score=0.381, total=   0.7s\n",
      "[CV] Transformer_FeatSelection__type_feat=weighted_mean_5, clf__max_depth=10 \n",
      "[CV]  Transformer_FeatSelection__type_feat=weighted_mean_5, clf__max_depth=10, score=0.344, total=   0.8s\n",
      "[CV] Transformer_FeatSelection__type_feat=weighted_mean_5, clf__max_depth=10 \n",
      "[CV]  Transformer_FeatSelection__type_feat=weighted_mean_5, clf__max_depth=10, score=0.331, total=   0.7s\n",
      "[CV] Transformer_FeatSelection__type_feat=weighted_mean_5, clf__max_depth=10 \n",
      "[CV]  Transformer_FeatSelection__type_feat=weighted_mean_5, clf__max_depth=10, score=0.377, total=   0.7s\n",
      "[CV] Transformer_FeatSelection__type_feat=weighted_mean_5, clf__max_depth=10 \n",
      "[CV]  Transformer_FeatSelection__type_feat=weighted_mean_5, clf__max_depth=10, score=0.396, total=   0.7s\n",
      "[CV] Transformer_FeatSelection__type_feat=weighted_mean_5, clf__max_depth=20 \n",
      "[CV]  Transformer_FeatSelection__type_feat=weighted_mean_5, clf__max_depth=20, score=0.319, total=   0.7s\n",
      "[CV] Transformer_FeatSelection__type_feat=weighted_mean_5, clf__max_depth=20 \n",
      "[CV]  Transformer_FeatSelection__type_feat=weighted_mean_5, clf__max_depth=20, score=0.331, total=   0.8s\n",
      "[CV] Transformer_FeatSelection__type_feat=weighted_mean_5, clf__max_depth=20 \n",
      "[CV]  Transformer_FeatSelection__type_feat=weighted_mean_5, clf__max_depth=20, score=0.338, total=   0.8s\n",
      "[CV] Transformer_FeatSelection__type_feat=weighted_mean_5, clf__max_depth=20 \n",
      "[CV]  Transformer_FeatSelection__type_feat=weighted_mean_5, clf__max_depth=20, score=0.358, total=   0.7s\n",
      "[CV] Transformer_FeatSelection__type_feat=weighted_mean_5, clf__max_depth=20 \n",
      "[CV]  Transformer_FeatSelection__type_feat=weighted_mean_5, clf__max_depth=20, score=0.371, total=   0.8s\n",
      "[CV] Transformer_FeatSelection__type_feat=weighted_mean_10, clf__max_depth=3 \n",
      "[CV]  Transformer_FeatSelection__type_feat=weighted_mean_10, clf__max_depth=3, score=0.362, total=   0.6s\n",
      "[CV] Transformer_FeatSelection__type_feat=weighted_mean_10, clf__max_depth=3 \n",
      "[CV]  Transformer_FeatSelection__type_feat=weighted_mean_10, clf__max_depth=3, score=0.356, total=   0.6s\n",
      "[CV] Transformer_FeatSelection__type_feat=weighted_mean_10, clf__max_depth=3 \n",
      "[CV]  Transformer_FeatSelection__type_feat=weighted_mean_10, clf__max_depth=3, score=0.369, total=   0.6s\n",
      "[CV] Transformer_FeatSelection__type_feat=weighted_mean_10, clf__max_depth=3 \n",
      "[CV]  Transformer_FeatSelection__type_feat=weighted_mean_10, clf__max_depth=3, score=0.384, total=   0.6s\n",
      "[CV] Transformer_FeatSelection__type_feat=weighted_mean_10, clf__max_depth=3 \n",
      "[CV]  Transformer_FeatSelection__type_feat=weighted_mean_10, clf__max_depth=3, score=0.377, total=   0.6s\n",
      "[CV] Transformer_FeatSelection__type_feat=weighted_mean_10, clf__max_depth=5 \n",
      "[CV]  Transformer_FeatSelection__type_feat=weighted_mean_10, clf__max_depth=5, score=0.369, total=   0.6s\n",
      "[CV] Transformer_FeatSelection__type_feat=weighted_mean_10, clf__max_depth=5 \n",
      "[CV]  Transformer_FeatSelection__type_feat=weighted_mean_10, clf__max_depth=5, score=0.400, total=   0.6s\n",
      "[CV] Transformer_FeatSelection__type_feat=weighted_mean_10, clf__max_depth=5 \n",
      "[CV]  Transformer_FeatSelection__type_feat=weighted_mean_10, clf__max_depth=5, score=0.356, total=   0.7s\n",
      "[CV] Transformer_FeatSelection__type_feat=weighted_mean_10, clf__max_depth=5 \n",
      "[CV]  Transformer_FeatSelection__type_feat=weighted_mean_10, clf__max_depth=5, score=0.333, total=   0.6s\n",
      "[CV] Transformer_FeatSelection__type_feat=weighted_mean_10, clf__max_depth=5 \n",
      "[CV]  Transformer_FeatSelection__type_feat=weighted_mean_10, clf__max_depth=5, score=0.403, total=   0.6s\n",
      "[CV] Transformer_FeatSelection__type_feat=weighted_mean_10, clf__max_depth=10 \n",
      "[CV]  Transformer_FeatSelection__type_feat=weighted_mean_10, clf__max_depth=10, score=0.356, total=   0.7s\n",
      "[CV] Transformer_FeatSelection__type_feat=weighted_mean_10, clf__max_depth=10 \n",
      "[CV]  Transformer_FeatSelection__type_feat=weighted_mean_10, clf__max_depth=10, score=0.369, total=   1.3s\n",
      "[CV] Transformer_FeatSelection__type_feat=weighted_mean_10, clf__max_depth=10 \n",
      "[CV]  Transformer_FeatSelection__type_feat=weighted_mean_10, clf__max_depth=10, score=0.375, total=   1.0s\n",
      "[CV] Transformer_FeatSelection__type_feat=weighted_mean_10, clf__max_depth=10 \n",
      "[CV]  Transformer_FeatSelection__type_feat=weighted_mean_10, clf__max_depth=10, score=0.365, total=   0.7s\n",
      "[CV] Transformer_FeatSelection__type_feat=weighted_mean_10, clf__max_depth=10 \n",
      "[CV]  Transformer_FeatSelection__type_feat=weighted_mean_10, clf__max_depth=10, score=0.377, total=   0.7s\n",
      "[CV] Transformer_FeatSelection__type_feat=weighted_mean_10, clf__max_depth=20 \n",
      "[CV]  Transformer_FeatSelection__type_feat=weighted_mean_10, clf__max_depth=20, score=0.356, total=   0.8s\n",
      "[CV] Transformer_FeatSelection__type_feat=weighted_mean_10, clf__max_depth=20 \n",
      "[CV]  Transformer_FeatSelection__type_feat=weighted_mean_10, clf__max_depth=20, score=0.362, total=   0.8s\n",
      "[CV] Transformer_FeatSelection__type_feat=weighted_mean_10, clf__max_depth=20 \n",
      "[CV]  Transformer_FeatSelection__type_feat=weighted_mean_10, clf__max_depth=20, score=0.375, total=   0.8s\n",
      "[CV] Transformer_FeatSelection__type_feat=weighted_mean_10, clf__max_depth=20 \n",
      "[CV]  Transformer_FeatSelection__type_feat=weighted_mean_10, clf__max_depth=20, score=0.346, total=   0.7s\n",
      "[CV] Transformer_FeatSelection__type_feat=weighted_mean_10, clf__max_depth=20 \n",
      "[CV]  Transformer_FeatSelection__type_feat=weighted_mean_10, clf__max_depth=20, score=0.396, total=   0.8s\n",
      "[CV] Transformer_FeatSelection__type_feat=normal_mean_5, clf__max_depth=3 \n",
      "[CV]  Transformer_FeatSelection__type_feat=normal_mean_5, clf__max_depth=3, score=0.362, total=   0.6s\n",
      "[CV] Transformer_FeatSelection__type_feat=normal_mean_5, clf__max_depth=3 \n",
      "[CV]  Transformer_FeatSelection__type_feat=normal_mean_5, clf__max_depth=3, score=0.381, total=   0.6s\n",
      "[CV] Transformer_FeatSelection__type_feat=normal_mean_5, clf__max_depth=3 \n",
      "[CV]  Transformer_FeatSelection__type_feat=normal_mean_5, clf__max_depth=3, score=0.400, total=   0.6s\n",
      "[CV] Transformer_FeatSelection__type_feat=normal_mean_5, clf__max_depth=3 \n",
      "[CV]  Transformer_FeatSelection__type_feat=normal_mean_5, clf__max_depth=3, score=0.365, total=   0.6s\n",
      "[CV] Transformer_FeatSelection__type_feat=normal_mean_5, clf__max_depth=3 \n",
      "[CV]  Transformer_FeatSelection__type_feat=normal_mean_5, clf__max_depth=3, score=0.384, total=   0.6s\n",
      "[CV] Transformer_FeatSelection__type_feat=normal_mean_5, clf__max_depth=5 \n",
      "[CV]  Transformer_FeatSelection__type_feat=normal_mean_5, clf__max_depth=5, score=0.356, total=   0.6s\n",
      "[CV] Transformer_FeatSelection__type_feat=normal_mean_5, clf__max_depth=5 \n",
      "[CV]  Transformer_FeatSelection__type_feat=normal_mean_5, clf__max_depth=5, score=0.369, total=   0.6s\n",
      "[CV] Transformer_FeatSelection__type_feat=normal_mean_5, clf__max_depth=5 \n"
     ]
    },
    {
     "name": "stdout",
     "output_type": "stream",
     "text": [
      "[CV]  Transformer_FeatSelection__type_feat=normal_mean_5, clf__max_depth=5, score=0.381, total=   0.6s\n",
      "[CV] Transformer_FeatSelection__type_feat=normal_mean_5, clf__max_depth=5 \n",
      "[CV]  Transformer_FeatSelection__type_feat=normal_mean_5, clf__max_depth=5, score=0.340, total=   0.6s\n",
      "[CV] Transformer_FeatSelection__type_feat=normal_mean_5, clf__max_depth=5 \n",
      "[CV]  Transformer_FeatSelection__type_feat=normal_mean_5, clf__max_depth=5, score=0.384, total=   0.6s\n",
      "[CV] Transformer_FeatSelection__type_feat=normal_mean_5, clf__max_depth=10 \n",
      "[CV]  Transformer_FeatSelection__type_feat=normal_mean_5, clf__max_depth=10, score=0.350, total=   0.7s\n",
      "[CV] Transformer_FeatSelection__type_feat=normal_mean_5, clf__max_depth=10 \n",
      "[CV]  Transformer_FeatSelection__type_feat=normal_mean_5, clf__max_depth=10, score=0.381, total=   0.7s\n",
      "[CV] Transformer_FeatSelection__type_feat=normal_mean_5, clf__max_depth=10 \n",
      "[CV]  Transformer_FeatSelection__type_feat=normal_mean_5, clf__max_depth=10, score=0.356, total=   0.7s\n",
      "[CV] Transformer_FeatSelection__type_feat=normal_mean_5, clf__max_depth=10 \n",
      "[CV]  Transformer_FeatSelection__type_feat=normal_mean_5, clf__max_depth=10, score=0.377, total=   0.7s\n",
      "[CV] Transformer_FeatSelection__type_feat=normal_mean_5, clf__max_depth=10 \n",
      "[CV]  Transformer_FeatSelection__type_feat=normal_mean_5, clf__max_depth=10, score=0.415, total=   0.7s\n",
      "[CV] Transformer_FeatSelection__type_feat=normal_mean_5, clf__max_depth=20 \n",
      "[CV]  Transformer_FeatSelection__type_feat=normal_mean_5, clf__max_depth=20, score=0.369, total=   0.7s\n",
      "[CV] Transformer_FeatSelection__type_feat=normal_mean_5, clf__max_depth=20 \n",
      "[CV]  Transformer_FeatSelection__type_feat=normal_mean_5, clf__max_depth=20, score=0.394, total=   0.7s\n",
      "[CV] Transformer_FeatSelection__type_feat=normal_mean_5, clf__max_depth=20 \n",
      "[CV]  Transformer_FeatSelection__type_feat=normal_mean_5, clf__max_depth=20, score=0.350, total=   0.7s\n",
      "[CV] Transformer_FeatSelection__type_feat=normal_mean_5, clf__max_depth=20 \n",
      "[CV]  Transformer_FeatSelection__type_feat=normal_mean_5, clf__max_depth=20, score=0.352, total=   0.7s\n",
      "[CV] Transformer_FeatSelection__type_feat=normal_mean_5, clf__max_depth=20 \n",
      "[CV]  Transformer_FeatSelection__type_feat=normal_mean_5, clf__max_depth=20, score=0.421, total=   0.7s\n",
      "[CV] Transformer_FeatSelection__type_feat=normal_mean_10, clf__max_depth=3 \n",
      "[CV]  Transformer_FeatSelection__type_feat=normal_mean_10, clf__max_depth=3, score=0.362, total=   0.6s\n",
      "[CV] Transformer_FeatSelection__type_feat=normal_mean_10, clf__max_depth=3 \n",
      "[CV]  Transformer_FeatSelection__type_feat=normal_mean_10, clf__max_depth=3, score=0.362, total=   0.6s\n",
      "[CV] Transformer_FeatSelection__type_feat=normal_mean_10, clf__max_depth=3 \n",
      "[CV]  Transformer_FeatSelection__type_feat=normal_mean_10, clf__max_depth=3, score=0.381, total=   0.6s\n",
      "[CV] Transformer_FeatSelection__type_feat=normal_mean_10, clf__max_depth=3 \n",
      "[CV]  Transformer_FeatSelection__type_feat=normal_mean_10, clf__max_depth=3, score=0.358, total=   0.6s\n",
      "[CV] Transformer_FeatSelection__type_feat=normal_mean_10, clf__max_depth=3 \n",
      "[CV]  Transformer_FeatSelection__type_feat=normal_mean_10, clf__max_depth=3, score=0.384, total=   0.6s\n",
      "[CV] Transformer_FeatSelection__type_feat=normal_mean_10, clf__max_depth=5 \n",
      "[CV]  Transformer_FeatSelection__type_feat=normal_mean_10, clf__max_depth=5, score=0.344, total=   0.6s\n",
      "[CV] Transformer_FeatSelection__type_feat=normal_mean_10, clf__max_depth=5 \n",
      "[CV]  Transformer_FeatSelection__type_feat=normal_mean_10, clf__max_depth=5, score=0.400, total=   0.6s\n",
      "[CV] Transformer_FeatSelection__type_feat=normal_mean_10, clf__max_depth=5 \n",
      "[CV]  Transformer_FeatSelection__type_feat=normal_mean_10, clf__max_depth=5, score=0.344, total=   0.6s\n",
      "[CV] Transformer_FeatSelection__type_feat=normal_mean_10, clf__max_depth=5 \n",
      "[CV]  Transformer_FeatSelection__type_feat=normal_mean_10, clf__max_depth=5, score=0.333, total=   0.6s\n",
      "[CV] Transformer_FeatSelection__type_feat=normal_mean_10, clf__max_depth=5 \n",
      "[CV]  Transformer_FeatSelection__type_feat=normal_mean_10, clf__max_depth=5, score=0.377, total=   0.6s\n",
      "[CV] Transformer_FeatSelection__type_feat=normal_mean_10, clf__max_depth=10 \n",
      "[CV]  Transformer_FeatSelection__type_feat=normal_mean_10, clf__max_depth=10, score=0.356, total=   0.7s\n",
      "[CV] Transformer_FeatSelection__type_feat=normal_mean_10, clf__max_depth=10 \n",
      "[CV]  Transformer_FeatSelection__type_feat=normal_mean_10, clf__max_depth=10, score=0.388, total=   0.7s\n",
      "[CV] Transformer_FeatSelection__type_feat=normal_mean_10, clf__max_depth=10 \n",
      "[CV]  Transformer_FeatSelection__type_feat=normal_mean_10, clf__max_depth=10, score=0.406, total=   0.7s\n",
      "[CV] Transformer_FeatSelection__type_feat=normal_mean_10, clf__max_depth=10 \n",
      "[CV]  Transformer_FeatSelection__type_feat=normal_mean_10, clf__max_depth=10, score=0.358, total=   0.7s\n",
      "[CV] Transformer_FeatSelection__type_feat=normal_mean_10, clf__max_depth=10 \n",
      "[CV]  Transformer_FeatSelection__type_feat=normal_mean_10, clf__max_depth=10, score=0.384, total=   0.7s\n",
      "[CV] Transformer_FeatSelection__type_feat=normal_mean_10, clf__max_depth=20 \n",
      "[CV]  Transformer_FeatSelection__type_feat=normal_mean_10, clf__max_depth=20, score=0.350, total=   0.7s\n",
      "[CV] Transformer_FeatSelection__type_feat=normal_mean_10, clf__max_depth=20 \n",
      "[CV]  Transformer_FeatSelection__type_feat=normal_mean_10, clf__max_depth=20, score=0.388, total=   0.7s\n",
      "[CV] Transformer_FeatSelection__type_feat=normal_mean_10, clf__max_depth=20 \n",
      "[CV]  Transformer_FeatSelection__type_feat=normal_mean_10, clf__max_depth=20, score=0.388, total=   0.7s\n",
      "[CV] Transformer_FeatSelection__type_feat=normal_mean_10, clf__max_depth=20 \n",
      "[CV]  Transformer_FeatSelection__type_feat=normal_mean_10, clf__max_depth=20, score=0.314, total=   0.7s\n",
      "[CV] Transformer_FeatSelection__type_feat=normal_mean_10, clf__max_depth=20 \n",
      "[CV]  Transformer_FeatSelection__type_feat=normal_mean_10, clf__max_depth=20, score=0.352, total=   0.8s\n"
     ]
    },
    {
     "name": "stderr",
     "output_type": "stream",
     "text": [
      "[Parallel(n_jobs=1)]: Done  80 out of  80 | elapsed:   59.0s finished\n"
     ]
    },
    {
     "data": {
      "text/plain": [
       "GridSearchCV(cv=None, error_score=nan,\n",
       "             estimator=Pipeline(memory=None,\n",
       "                                steps=[('Transformer_FeatSelection',\n",
       "                                        FeatureSelectionTransformer(type_feat='weighted_mean_10')),\n",
       "                                       ('clf',\n",
       "                                        RandomForestClassifier(bootstrap=True,\n",
       "                                                               ccp_alpha=0.0,\n",
       "                                                               class_weight=None,\n",
       "                                                               criterion='gini',\n",
       "                                                               max_depth=None,\n",
       "                                                               max_features='auto',\n",
       "                                                               max_leaf_nodes=None,\n",
       "                                                               max_samples=None,\n",
       "                                                               min_impurity_decrease...\n",
       "                                                               n_jobs=4,\n",
       "                                                               oob_score=False,\n",
       "                                                               random_state=None,\n",
       "                                                               verbose=0,\n",
       "                                                               warm_start=False))],\n",
       "                                verbose=False),\n",
       "             iid='deprecated', n_jobs=None,\n",
       "             param_grid={'Transformer_FeatSelection__type_feat': ['weighted_mean_5',\n",
       "                                                                  'weighted_mean_10',\n",
       "                                                                  'normal_mean_5',\n",
       "                                                                  'normal_mean_10'],\n",
       "                         'clf__max_depth': [3, 5, 10, 20]},\n",
       "             pre_dispatch='2*n_jobs', refit=True, return_train_score=False,\n",
       "             scoring=None, verbose=3)"
      ]
     },
     "execution_count": 39,
     "metadata": {},
     "output_type": "execute_result"
    }
   ],
   "source": [
    "cv.fit(X_train, y_train)"
   ]
  },
  {
   "cell_type": "markdown",
   "metadata": {},
   "source": [
    "## Export of Model"
   ]
  },
  {
   "cell_type": "code",
   "execution_count": 41,
   "metadata": {},
   "outputs": [],
   "source": [
    "pickle.dump(cv, open(os.path.join(path_models, name_output_model), 'wb'))"
   ]
  }
 ],
 "metadata": {
  "kernelspec": {
   "display_name": "Python 3",
   "language": "python",
   "name": "python3"
  },
  "language_info": {
   "codemirror_mode": {
    "name": "ipython",
    "version": 3
   },
   "file_extension": ".py",
   "mimetype": "text/x-python",
   "name": "python",
   "nbconvert_exporter": "python",
   "pygments_lexer": "ipython3",
   "version": "3.7.3"
  }
 },
 "nbformat": 4,
 "nbformat_minor": 2
}
